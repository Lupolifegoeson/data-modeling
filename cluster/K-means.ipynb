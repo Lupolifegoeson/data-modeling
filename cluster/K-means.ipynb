{
 "cells": [
  {
   "cell_type": "markdown",
   "metadata": {},
   "source": [
    "# K-means聚类\n",
    "用kmeans对鸢尾花数据进行聚类"
   ]
  },
  {
   "cell_type": "code",
   "execution_count": 1,
   "metadata": {},
   "outputs": [],
   "source": [
    "import numpy as np\n",
    "from sklearn.datasets import load_iris\n",
    "import matplotlib.pyplot as plt"
   ]
  },
  {
   "cell_type": "markdown",
   "metadata": {},
   "source": [
    "## 加载鸢尾花数据集\n",
    "The iris dataset is a classic and very easy multi-class classification dataset.\n",
    "\n",
    "|||\n",
    "|--|--|\n",
    "|Classes|3|\n",
    "|Samples per class|50|\n",
    "|Samples total|150|\n",
    "|Dimensionality|4|"
   ]
  },
  {
   "cell_type": "code",
   "execution_count": 2,
   "metadata": {},
   "outputs": [],
   "source": [
    "sample = load_iris()\n",
    "data = sample['data']\n",
    "target = sample['target']"
   ]
  },
  {
   "cell_type": "markdown",
   "metadata": {},
   "source": [
    "## 可视化\n",
    "由于鸢尾花数据集的特征维度为4， 为了方便可视化，取前两维的数据来在2维平面上作图。因为直接削减一般的特征，3中鸢尾花在2维平面上分布重合也是在所难免。"
   ]
  },
  {
   "cell_type": "code",
   "execution_count": 3,
   "metadata": {},
   "outputs": [
    {
     "data": {
      "image/png": "[encoded data removed]",
      "text/plain": [
       "<matplotlib.figure.Figure at 0x25fa7db8da0>"
      ]
     },
     "metadata": {},
     "output_type": "display_data"
    }
   ],
   "source": [
    "for (i, c, m) in zip(range(3), ['orange', 'blue', 'brown'], ['o', '^', '+']):\n",
    "    indices = target == i\n",
    "    plt.scatter(data[indices, 0], data[indices, 1], c=c, marker=m)\n",
    "plt.show()"
   ]
  },
  {
   "cell_type": "markdown",
   "metadata": {},
   "source": [
    "## Kmeans\n",
    "```\n",
    "创建k个点作为起始中心点（1.经常是随机选择 2.这里的每个点都暂时代表一个簇的中心点 3.中心点不一定与样本点重合）\n",
    "当任意一个点的簇分配结果发生改变时：\n",
    "    对样本集中每一个样本：\n",
    "        对每一个中心点：\n",
    "            计算样本点到中心点之间的度量\n",
    "        重新分配样本，将样本分配到最近的中心点所在的簇\n",
    "    重新计算中心点，对每一个簇，计算簇中所有样本点的均值并将均值作为新的中心点\n",
    "```"
   ]
  },
  {
   "cell_type": "code",
   "execution_count": 4,
   "metadata": {},
   "outputs": [],
   "source": [
    "def rand_center(data, k):\n",
    "    \"\"\"\n",
    "    创建初始中心点\n",
    "    data: 带聚类数据集\n",
    "    k: 聚类中心点数目\n",
    "    \"\"\"\n",
    "    dims_data = data.shape[1]\n",
    "    centers = np.mat(np.empty((k, dims_data)))  # 中心点向量\n",
    "    '''create random cluster centers, \n",
    "    within bounds of each dimension'''\n",
    "    for i in range(dims_data):\n",
    "        min_ = np.min(data[:, i])\n",
    "        max_ = np.max(data[:, i])\n",
    "        centers[:, i] = np.random.rand(k, 1) * (max_ - min_) + min_\n",
    "    return centers"
   ]
  },
  {
   "cell_type": "code",
   "execution_count": 5,
   "metadata": {},
   "outputs": [
    {
     "data": {
      "text/plain": [
       "matrix([[ 5.86897615,  3.41447679,  2.20802239,  1.39046974],\n",
       "        [ 6.02503317,  2.39027735,  5.85077734,  2.2073336 ]])"
      ]
     },
     "execution_count": 5,
     "metadata": {},
     "output_type": "execute_result"
    }
   ],
   "source": [
    "# 测试rand_center()函数功能\n",
    "rand_center(data, 2)"
   ]
  },
  {
   "cell_type": "code",
   "execution_count": 6,
   "metadata": {},
   "outputs": [],
   "source": [
    "def dist_eclud(a, b):\n",
    "    \"\"\"\n",
    "    用欧式距离度量样本点和中心点之间的距离\n",
    "    \"\"\"\n",
    "    return np.sqrt(np.sum(np.power(a - b, 2)))"
   ]
  },
  {
   "cell_type": "code",
   "execution_count": 7,
   "metadata": {},
   "outputs": [],
   "source": [
    "def k_means(data, k, dist_meas=dist_eclud, create_cent=rand_center):\n",
    "    assert len(data.shape) == 2  # 数据集为2维数据\n",
    "    nums_data = data.shape[0]\n",
    "    # create mat to assign data points to a centroid, also holds dist of each point\n",
    "    cluster_assment = np.mat(np.empty((nums_data, 2)))\n",
    "    centers = create_cent(data, k)\n",
    "\n",
    "    cluster_changed = True\n",
    "    while cluster_changed:\n",
    "        cluster_changed = False\n",
    "        for i in range(nums_data):\n",
    "            min_dist = np.inf\n",
    "            min_center_index = -1\n",
    "            for j in range(k):  # for each data point assign it to the closest centroid\n",
    "                dist = dist_meas(data[i], centers[j])\n",
    "                if dist < min_dist:\n",
    "                    min_dist = dist\n",
    "                    min_center_index = j\n",
    "            if cluster_assment[i, 0] != min_center_index:\n",
    "                cluster_changed = True\n",
    "                cluster_assment[i, :] = min_center_index, min_dist\n",
    "                \n",
    "        for i in range(k):  # recalculate centroids\n",
    "            centers[i] = np.mean(data[np.nonzero(cluster_assment[:, 0] == i)[0]], axis=0)\n",
    "    return np.array(centers), np.array(cluster_assment)"
   ]
  },
  {
   "cell_type": "code",
   "execution_count": 8,
   "metadata": {},
   "outputs": [],
   "source": [
    "centers, cluster_assment = k_means(data, 3)"
   ]
  },
  {
   "cell_type": "code",
   "execution_count": 9,
   "metadata": {},
   "outputs": [
    {
     "name": "stdout",
     "output_type": "stream",
     "text": [
      "聚类中心点:\n",
      " [[ 5.9016129   2.7483871   4.39354839  1.43387097]\n",
      " [ 5.006       3.418       1.464       0.244     ]\n",
      " [ 6.85        3.07368421  5.74210526  2.07105263]]\n",
      "\n",
      "样本点类别：\n",
      " [ 1.  1.  1.  1.  1.  1.  1.  1.  1.  1.  1.  1.  1.  1.  1.  1.  1.  1.\n",
      "  1.  1.  1.  1.  1.  1.  1.  1.  1.  1.  1.  1.  1.  1.  1.  1.  1.  1.\n",
      "  1.  1.  1.  1.  1.  1.  1.  1.  1.  1.  1.  1.  1.  1.  0.  0.  2.  0.\n",
      "  0.  0.  0.  0.  0.  0.  0.  0.  0.  0.  0.  0.  0.  0.  0.  0.  0.  0.\n",
      "  0.  0.  0.  0.  0.  2.  0.  0.  0.  0.  0.  0.  0.  0.  0.  0.  0.  0.\n",
      "  0.  0.  0.  0.  0.  0.  0.  0.  0.  0.  2.  0.  2.  2.  2.  2.  0.  2.\n",
      "  2.  2.  2.  2.  2.  0.  0.  2.  2.  2.  2.  0.  2.  0.  2.  0.  2.  2.\n",
      "  0.  0.  2.  2.  2.  2.  2.  0.  2.  2.  2.  2.  0.  2.  2.  2.  0.  2.\n",
      "  2.  2.  0.  2.  2.  0.]\n"
     ]
    }
   ],
   "source": [
    "print('聚类中心点:\\n', centers)\n",
    "print('\\n样本点类别：\\n', cluster_assment[:, 0])"
   ]
  },
  {
   "cell_type": "markdown",
   "metadata": {},
   "source": [
    "### 对聚类后标签的标签进行可视化\n",
    "可以看到聚类后的标签跟聚类前的标签相近，说明我们自定义的kmeans算法有较好的效果。"
   ]
  },
  {
   "cell_type": "code",
   "execution_count": 10,
   "metadata": {},
   "outputs": [
    {
     "data": {
      "image/png": "[encoded data removed]",
      "text/plain": [
       "<matplotlib.figure.Figure at 0x25fa9f01240>"
      ]
     },
     "metadata": {},
     "output_type": "display_data"
    }
   ],
   "source": [
    "new_target = cluster_assment[:, 0]\n",
    "for (i, c, m) in zip([1, 2, 0], ['orange', 'blue', 'brown'], ['o', '^', '+']):\n",
    "    indices = new_target == i\n",
    "    plt.scatter(data[indices, 0], data[indices, 1], c=c, marker=m)\n",
    "plt.show()"
   ]
  },
  {
   "cell_type": "code",
   "execution_count": null,
   "metadata": {},
   "outputs": [],
   "source": []
  }
 ],
 "metadata": {
  "kernelspec": {
   "display_name": "Python 3",
   "language": "python",
   "name": "python3"
  },
  "language_info": {
   "codemirror_mode": {
    "name": "ipython",
    "version": 3
   },
   "file_extension": ".py",
   "mimetype": "text/x-python",
   "name": "python",
   "nbconvert_exporter": "python",
   "pygments_lexer": "ipython3",
   "version": "3.6.0"
  }
 },
 "nbformat": 4,
 "nbformat_minor": 2
}
