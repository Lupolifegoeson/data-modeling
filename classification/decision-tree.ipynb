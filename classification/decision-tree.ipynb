{
 "cells": [
  {
   "cell_type": "markdown",
   "metadata": {},
   "source": [
    "# 决策树\n",
    "## 离散型决策树"
   ]
  },
  {
   "cell_type": "markdown",
   "metadata": {},
   "source": [
    "### 离散型数据\n",
    "\n",
    "|不能上陆|有蹼|是否是鱼类|\n",
    "|--|--|--|\n",
    "|1|1|是|\n",
    "|1|1|是|\n",
    "|1|0|否|\n",
    "|0|1|否|\n",
    "|0|1|否|"
   ]
  },
  {
   "cell_type": "code",
   "execution_count": 1,
   "metadata": {},
   "outputs": [],
   "source": [
    "from math import log"
   ]
  },
  {
   "cell_type": "code",
   "execution_count": 2,
   "metadata": {},
   "outputs": [],
   "source": [
    "def create_dataset():\n",
    "    dataSet = [[1, 1, 'yes'],\n",
    "               [1, 1, 'yes'],\n",
    "               [1, 0, 'no'],\n",
    "               [0, 1, 'no'],\n",
    "               [0, 1, 'no']]\n",
    "    names = ['no surfacing','flippers']  # 不能上陆，有无蹼\n",
    "    return dataSet, names"
   ]
  },
  {
   "cell_type": "code",
   "execution_count": 3,
   "metadata": {},
   "outputs": [
    {
     "data": {
      "text/plain": [
       "[[1, 1, 'yes'], [1, 1, 'yes'], [1, 0, 'no'], [0, 1, 'no'], [0, 1, 'no']]"
      ]
     },
     "execution_count": 3,
     "metadata": {},
     "output_type": "execute_result"
    }
   ],
   "source": [
    "dataset, names = create_dataset()\n",
    "dataset"
   ]
  },
  {
   "cell_type": "code",
   "execution_count": 4,
   "metadata": {},
   "outputs": [
    {
     "data": {
      "text/plain": [
       "['no surfacing', 'flippers']"
      ]
     },
     "execution_count": 4,
     "metadata": {},
     "output_type": "execute_result"
    }
   ],
   "source": [
    "names"
   ]
  },
  {
   "cell_type": "markdown",
   "metadata": {},
   "source": [
    "### 递归构建决策树\n",
    "换回一个嵌套的字典，形如：\n",
    "{'no surfacing': {0: 'no', 1: {'flippers': {0: 'no', 1: 'yes'}}}}\n",
    "\n",
    "代码共分为部分：\n",
    "\n",
    "1. 递归终止条件\n",
    "    1. 只有一类\n",
    "    2. 没有用于分类的特征\n",
    "2. 根绝最大增益选择特征\n",
    "3. 根据该特征划分数据集\n",
    "4. 左右子树进入递归"
   ]
  },
  {
   "cell_type": "code",
   "execution_count": 9,
   "metadata": {},
   "outputs": [],
   "source": [
    "def create_tree(dataset, names, features, tree):\n",
    "    \"\"\"return a tree dictionary\n",
    "    dataset: 数据集或数据集子集\n",
    "    names: 特征名称\n",
    "    features: 特征集合或特征子集 features = {0, 1} 表示第一列、第二列\n",
    "    tree: 决策树字典或决策子树字典\n",
    "    \"\"\"\n",
    "    classes = set(sample[-1] for sample in dataset)  # classes = {'yes', 'no'}\n",
    "    if len(classes) <=1:  # Only one class\n",
    "        tree = classes.pop()\n",
    "        return tree\n",
    "    if len(features) == 0:  # no feature\n",
    "        tree = majority_count(dataset, classes)\n",
    "        return tree\n",
    "\n",
    "    # 最佳特征及其下的左子树和右子树\n",
    "    (best_feature, best_value, another, \n",
    "     best_left, best_right) = choose_feature(dataset, features, classes)\n",
    "    best_feature_name = names[best_feature]\n",
    "    tree = {best_feature_name: {best_value: {}, another: {}}}\n",
    "    features.remove(best_feature)\n",
    "    print('current feature => ', best_feature_name)\n",
    "    \n",
    "    if best_left:\n",
    "        sub_tree = create_tree(best_left, names, features, tree[best_feature_name][best_feature])\n",
    "        tree[best_feature_name][best_value] = sub_tree\n",
    "    if best_right:\n",
    "        sub_tree = create_tree(best_right, names, features, tree[best_feature_name][another])\n",
    "        tree[best_feature_name][1 - best_value] = sub_tree\n",
    "    return tree"
   ]
  },
  {
   "cell_type": "code",
   "execution_count": 5,
   "metadata": {},
   "outputs": [],
   "source": [
    "def majority_count(dataset, classes):\n",
    "    \"\"\"\n",
    "    返回叶子结点中样本最多的样本\n",
    "    \"\"\"\n",
    "    max_cnt = 0\n",
    "    max_c = None\n",
    "    labels = [sample[-1] for sample in dataset]\n",
    "    for c in classes:\n",
    "        cnt = labels.count(c)\n",
    "        if cnt > max_cnt:\n",
    "            max_cnt = cnt\n",
    "            max_c = c\n",
    "    return c"
   ]
  },
  {
   "cell_type": "markdown",
   "metadata": {},
   "source": [
    "### 划分数据集\n",
    "根据信息增益划分数据集：\n",
    "    \n",
    "    按照给定特征划分数据集（按上述特征划分数据集=> `split_dataset`）\n",
    "    选择最好的数据集划分方式（选择信息增益最大的特征=> `choose_best_feature`）\n",
    "    按照给定特征划分数据集（按上述特征划分数据集=> `split_dataset`）\n",
    "    ……"
   ]
  },
  {
   "cell_type": "code",
   "execution_count": 6,
   "metadata": {},
   "outputs": [],
   "source": [
    "def split_dataset(dataset, feature, value):\n",
    "    \"\"\"\n",
    "    Left is true. Right is false\n",
    "    \"\"\"\n",
    "    left, right = list(), list()\n",
    "    for sample in dataset:\n",
    "        if sample[feature] == value:\n",
    "            left.append(sample)\n",
    "        else:\n",
    "            right.append(sample)\n",
    "    return left, right"
   ]
  },
  {
   "cell_type": "code",
   "execution_count": 7,
   "metadata": {},
   "outputs": [],
   "source": [
    "def calc_entropy(classes, *datasets):\n",
    "    entropy = 0.0\n",
    "    for d in datasets:\n",
    "        if d:\n",
    "            n_samples = len(d)\n",
    "            for c in classes:\n",
    "                proportion = [sample[-1] for sample in d].count(c) / float(n_samples)\n",
    "                if proportion != 0:\n",
    "                    entropy -= proportion * log(proportion, 2)\n",
    "    return entropy"
   ]
  },
  {
   "cell_type": "code",
   "execution_count": 8,
   "metadata": {},
   "outputs": [],
   "source": [
    "def choose_feature(dataset, features, classes):\n",
    "    best_gain = 0.0\n",
    "    best_feature = 0\n",
    "    best_value = None\n",
    "    another = None\n",
    "    best_left, best_right = None, None\n",
    "    for f in features:\n",
    "        values = set(sample[f] for sample in dataset)\n",
    "        for value in values:\n",
    "            # split the dataset\n",
    "            left, right = split_dataset(dataset, f, value)\n",
    "            # calculate information gain\n",
    "            org_entropy = calc_entropy(classes, dataset)\n",
    "            new_entropy = calc_entropy(classes, left, right)\n",
    "            gain = org_entropy - new_entropy\n",
    "            if gain > best_gain:\n",
    "                best_gain = gain\n",
    "                best_feature = f\n",
    "                best_value = value\n",
    "                best_left, best_right = left, right\n",
    "        for value in values:\n",
    "            if value != best_value:\n",
    "                another = value\n",
    "                break\n",
    "    return best_feature, best_value, another, best_left, best_right"
   ]
  },
  {
   "cell_type": "markdown",
   "metadata": {},
   "source": [
    "### main"
   ]
  },
  {
   "cell_type": "code",
   "execution_count": 10,
   "metadata": {},
   "outputs": [
    {
     "name": "stdout",
     "output_type": "stream",
     "text": [
      "current feature =>  no surfacing\n",
      "current feature =>  flippers\n"
     ]
    },
    {
     "data": {
      "text/plain": [
       "{'no surfacing': {0: 'no', 1: {'flippers': {0: 'no', 1: 'yes'}}}}"
      ]
     },
     "execution_count": 10,
     "metadata": {},
     "output_type": "execute_result"
    }
   ],
   "source": [
    "tree = dict()\n",
    "dataset, names = create_dataset()\n",
    "features = set(range(len(dataset[0]) - 1))  # features = {0, 1}\n",
    "create_tree(dataset, names, features, tree)"
   ]
  },
  {
   "cell_type": "code",
   "execution_count": null,
   "metadata": {},
   "outputs": [],
   "source": []
  }
 ],
 "metadata": {
  "kernelspec": {
   "display_name": "Python 3",
   "language": "python",
   "name": "python3"
  },
  "language_info": {
   "codemirror_mode": {
    "name": "ipython",
    "version": 3
   },
   "file_extension": ".py",
   "mimetype": "text/x-python",
   "name": "python",
   "nbconvert_exporter": "python",
   "pygments_lexer": "ipython3",
   "version": "3.6.0"
  }
 },
 "nbformat": 4,
 "nbformat_minor": 2
}
