{
 "cells": [
  {
   "cell_type": "markdown",
   "metadata": {},
   "source": [
    "# SVD\n",
    "## 公式\n",
    "$Data_{m\\times n} = U_{m \\times m} \\sum_{m \\times n} V_{n \\times n}^T$"
   ]
  },
  {
   "cell_type": "code",
   "execution_count": 1,
   "metadata": {},
   "outputs": [],
   "source": [
    "import numpy as np"
   ]
  },
  {
   "cell_type": "code",
   "execution_count": 3,
   "metadata": {},
   "outputs": [],
   "source": [
    "def load_dataset():\n",
    "    return[[0, 0, 0, 2, 2],\n",
    "           [0, 0, 0, 3, 3],\n",
    "           [0, 0, 0, 1, 1],\n",
    "           [1, 1, 1, 0, 0],\n",
    "           [2, 2, 2, 0, 0],\n",
    "           [5, 5, 5, 0, 0],\n",
    "           [1, 1, 1, 0, 0]]"
   ]
  },
  {
   "cell_type": "code",
   "execution_count": 4,
   "metadata": {},
   "outputs": [],
   "source": [
    "dataset = load_dataset()"
   ]
  },
  {
   "cell_type": "code",
   "execution_count": 5,
   "metadata": {},
   "outputs": [
    {
     "data": {
      "text/plain": [
       "[[0, 0, 0, 2, 2],\n",
       " [0, 0, 0, 3, 3],\n",
       " [0, 0, 0, 1, 1],\n",
       " [1, 1, 1, 0, 0],\n",
       " [2, 2, 2, 0, 0],\n",
       " [5, 5, 5, 0, 0],\n",
       " [1, 1, 1, 0, 0]]"
      ]
     },
     "execution_count": 5,
     "metadata": {},
     "output_type": "execute_result"
    }
   ],
   "source": [
    "dataset"
   ]
  },
  {
   "cell_type": "markdown",
   "metadata": {},
   "source": [
    "## 示意图\n",
    "![svd-dispose](svd-dispose.png)"
   ]
  },
  {
   "cell_type": "code",
   "execution_count": 6,
   "metadata": {},
   "outputs": [],
   "source": [
    "u, sigma, vt = np.linalg.svd(dataset)"
   ]
  },
  {
   "cell_type": "code",
   "execution_count": 7,
   "metadata": {},
   "outputs": [
    {
     "data": {
      "text/plain": [
       "array([[ -2.22044605e-16,   5.34522484e-01,   8.41650989e-01,\n",
       "          5.59998398e-02,  -5.26625636e-02,   2.77555756e-17,\n",
       "          1.38777878e-17],\n",
       "       [  0.00000000e+00,   8.01783726e-01,  -4.76944344e-01,\n",
       "         -2.09235996e-01,   2.93065263e-01,  -4.01696905e-17,\n",
       "         -2.77555756e-17],\n",
       "       [  0.00000000e+00,   2.67261242e-01,  -2.52468946e-01,\n",
       "          5.15708308e-01,  -7.73870662e-01,   1.54770403e-16,\n",
       "          0.00000000e+00],\n",
       "       [ -1.79605302e-01,   0.00000000e+00,   7.39748546e-03,\n",
       "         -3.03901436e-01,  -2.04933639e-01,   8.94308074e-01,\n",
       "         -1.83156768e-01],\n",
       "       [ -3.59210604e-01,   0.00000000e+00,   1.47949709e-02,\n",
       "         -6.07802873e-01,  -4.09867278e-01,  -4.47451355e-01,\n",
       "         -3.64856984e-01],\n",
       "       [ -8.98026510e-01,   0.00000000e+00,  -8.87698255e-03,\n",
       "          3.64681724e-01,   2.45920367e-01,  -1.07974660e-16,\n",
       "         -1.12074131e-17],\n",
       "       [ -1.79605302e-01,   0.00000000e+00,   7.39748546e-03,\n",
       "         -3.03901436e-01,  -2.04933639e-01,   5.94635264e-04,\n",
       "          9.12870736e-01]])"
      ]
     },
     "execution_count": 7,
     "metadata": {},
     "output_type": "execute_result"
    }
   ],
   "source": [
    "u"
   ]
  },
  {
   "cell_type": "code",
   "execution_count": 8,
   "metadata": {},
   "outputs": [
    {
     "data": {
      "text/plain": [
       "array([  9.64365076e+00,   5.29150262e+00,   7.40623935e-16,\n",
       "         4.05103551e-16,   2.21838243e-32])"
      ]
     },
     "execution_count": 8,
     "metadata": {},
     "output_type": "execute_result"
    }
   ],
   "source": [
    "sigma"
   ]
  },
  {
   "cell_type": "code",
   "execution_count": 9,
   "metadata": {},
   "outputs": [
    {
     "data": {
      "text/plain": [
       "array([[ -5.77350269e-01,  -5.77350269e-01,  -5.77350269e-01,\n",
       "          0.00000000e+00,   0.00000000e+00],\n",
       "       [ -2.46566547e-16,   1.23283273e-16,   1.23283273e-16,\n",
       "          7.07106781e-01,   7.07106781e-01],\n",
       "       [ -7.83779232e-01,   5.90050124e-01,   1.93729108e-01,\n",
       "         -2.77555756e-16,  -2.22044605e-16],\n",
       "       [ -2.28816045e-01,  -5.64364703e-01,   7.93180748e-01,\n",
       "          1.11022302e-16,  -1.11022302e-16],\n",
       "       [  0.00000000e+00,   0.00000000e+00,   0.00000000e+00,\n",
       "         -7.07106781e-01,   7.07106781e-01]])"
      ]
     },
     "execution_count": 9,
     "metadata": {},
     "output_type": "execute_result"
    }
   ],
   "source": [
    "vt"
   ]
  },
  {
   "cell_type": "markdown",
   "metadata": {},
   "source": [
    "### 选择奇异值\n",
    "有很多启发式算法，既可以单纯的选择最大的n个，也可以按照能量信息来（选择平方和占比90%的奇异值）。"
   ]
  }
 ],
 "metadata": {
  "kernelspec": {
   "display_name": "Python 3",
   "language": "python",
   "name": "python3"
  },
  "language_info": {
   "codemirror_mode": {
    "name": "ipython",
    "version": 3
   },
   "file_extension": ".py",
   "mimetype": "text/x-python",
   "name": "python",
   "nbconvert_exporter": "python",
   "pygments_lexer": "ipython3",
   "version": "3.6.0"
  }
 },
 "nbformat": 4,
 "nbformat_minor": 2
}
