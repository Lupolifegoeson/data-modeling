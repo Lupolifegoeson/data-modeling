{
 "cells": [
  {
   "cell_type": "markdown",
   "metadata": {},
   "source": [
    "# 分类回归树\n",
    "## 递归算法构建树\n",
    "伪代码：\n",
    "```\n",
    "找到最佳的待切分特征\n",
    "    如果该节点不能再分，将该节点存为叶节点\n",
    "    执行二元切分\n",
    "    对右子树调用create_tree()方法\n",
    "    对左子树调用create_tree()方法\n",
    "```"
   ]
  },
  {
   "cell_type": "code",
   "execution_count": 1,
   "metadata": {},
   "outputs": [],
   "source": [
    "import numpy as np"
   ]
  },
  {
   "cell_type": "code",
   "execution_count": 2,
   "metadata": {},
   "outputs": [],
   "source": [
    "def load_dataset(file_name):\n",
    "    \"\"\"general function to parse tab-delimited floats\"\"\"\n",
    "    dataset = []  # assume last column is target value\n",
    "    f = open(file_name)\n",
    "    for line in f.readlines():\n",
    "        line_list = line.strip().split('\\t')\n",
    "        line_list = list(map(float, line_list))  # map all elements to float()\n",
    "        dataset.append(line_list)\n",
    "    return dataset"
   ]
  },
  {
   "cell_type": "code",
   "execution_count": 3,
   "metadata": {},
   "outputs": [],
   "source": [
    "def split(dataset, feature, value):\n",
    "    left = dataset[np.nonzero(dataset[:, feature] > value)[0], :]\n",
    "    right = dataset[np.nonzero(dataset[:, feature] <= value)[0], :]\n",
    "    return left, right"
   ]
  },
  {
   "cell_type": "code",
   "execution_count": 7,
   "metadata": {},
   "outputs": [],
   "source": [
    "def create_tree(dataset, leaf_type=get_value, error_type=get_error, ops=(1, 4)):\n",
    "    \"\"\"assume dataset is NumPy Mat so we can array filtering\"\"\"\n",
    "    feature, value = choose_best_split(dataset, leaf_type, error_type, ops)\n",
    "    if feature is None:\n",
    "        return value\n",
    "    tree = dict()\n",
    "    tree['feature'] = feature\n",
    "    tree['value'] = value\n",
    "    l_set, r_set = split(dataset, feature, value)\n",
    "    tree['left'] = create_tree(l_set, leaf_type, error_type, ops)\n",
    "    tree['right'] = create_tree(r_set, leaf_type, error_type, ops)\n",
    "    return tree"
   ]
  },
  {
   "cell_type": "markdown",
   "metadata": {},
   "source": [
    "## 将CART算法用于回归\n",
    "### 寻找最佳切分点\n",
    "```\n",
    "对每个特征：\n",
    "    对每个特征值：\n",
    "        将数据集切分成两份\n",
    "        计算切分的误差\n",
    "        如果当前误差小于最小误差，那么将当前切分设定为最小切分并更新最小误差\n",
    "返回最佳切分的特征和特征值\n",
    "```"
   ]
  },
  {
   "cell_type": "code",
   "execution_count": 5,
   "metadata": {},
   "outputs": [],
   "source": [
    "def get_value(dataset):\n",
    "    \"\"\"returns the value used for each leaf\"\"\"\n",
    "    return np.mean(dataset[:, -1])\n",
    "\n",
    "\n",
    "def get_error(dataset):\n",
    "    \"\"\"计算总方差\"\"\"\n",
    "    return np.var(dataset[:, -1]) * dataset.shape[0]"
   ]
  },
  {
   "cell_type": "code",
   "execution_count": 6,
   "metadata": {},
   "outputs": [],
   "source": [
    "def choose_best_split(dataset, leaf_type=get_value, error_type=get_error, ops=(1, 4)):\n",
    "    \"\"\"returns the best feature to split on and the value used for that split\"\"\"\n",
    "    tol_error = ops[0]  # 容许的误差下降的下限\n",
    "    tol_samples_num = ops[1]  # 容许切分的最小样本数\n",
    "    # if all the target variables are the same value:\n",
    "    # quit and return value\n",
    "    if len(set(dataset[:, -1].T.tolist()[0])) == 1:  # exit condition 1\n",
    "        return None, leaf_type(dataset)\n",
    "    n_samples, n_features = dataset.shape\n",
    "    # the choice of the best feature is driven by Reduction in RSS error from mean\n",
    "    s = error_type(dataset)\n",
    "    best_s = np.inf\n",
    "    best_index = 0\n",
    "    best_value = 0\n",
    "    for feature in range(n_features - 1):\n",
    "        for value in set(dataset[:, feature].T.tolist()[0]):\n",
    "            left, right = split(dataset, feature, value)\n",
    "            if (left.shape[0] < tol_samples_num) or (right.shape[0] < tol_samples_num):\n",
    "                continue\n",
    "            new_s = error_type(left) + error_type(right)\n",
    "            if new_s < best_s:\n",
    "                best_index = feature\n",
    "                best_value = value\n",
    "                best_s = new_s\n",
    "    # if the decrease (s-best_s) is less than a threshold don't do the split\n",
    "    if (s - best_s) < tol_error:\n",
    "        return None, leaf_type(dataset)  # exit condition 2\n",
    "    left, right = split(dataset, best_index, best_value)\n",
    "    if (left.shape[0] < tol_samples_num) or (right.shape[0] < tol_samples_num):  # exit condition 3\n",
    "        return None, leaf_type(dataset)\n",
    "    return best_index, best_value"
   ]
  },
  {
   "cell_type": "code",
   "execution_count": 8,
   "metadata": {},
   "outputs": [],
   "source": [
    "dataset = load_dataset('cart-dataset2.txt')"
   ]
  },
  {
   "cell_type": "code",
   "execution_count": 9,
   "metadata": {},
   "outputs": [
    {
     "data": {
      "text/plain": [
       "[[1.0, 0.409175, 1.88318],\n",
       " [1.0, 0.182603, 0.063908],\n",
       " [1.0, 0.663687, 3.042257],\n",
       " [1.0, 0.517395, 2.305004],\n",
       " [1.0, 0.013643, -0.067698],\n",
       " [1.0, 0.469643, 1.662809],\n",
       " [1.0, 0.725426, 3.275749],\n",
       " [1.0, 0.39435, 1.118077],\n",
       " [1.0, 0.50776, 2.095059],\n",
       " [1.0, 0.237395, 1.181912],\n",
       " [1.0, 0.057534, 0.221663],\n",
       " [1.0, 0.36982, 0.938453],\n",
       " [1.0, 0.976819, 4.149409],\n",
       " [1.0, 0.616051, 3.105444],\n",
       " [1.0, 0.4137, 1.896278],\n",
       " [1.0, 0.105279, -0.121345],\n",
       " [1.0, 0.670273, 3.161652],\n",
       " [1.0, 0.952758, 4.135358],\n",
       " [1.0, 0.272316, 0.859063],\n",
       " [1.0, 0.303697, 1.170272],\n",
       " [1.0, 0.486698, 1.68796],\n",
       " [1.0, 0.51181, 1.979745],\n",
       " [1.0, 0.195865, 0.06869],\n",
       " [1.0, 0.986769, 4.052137],\n",
       " [1.0, 0.785623, 3.156316],\n",
       " [1.0, 0.797583, 2.95063],\n",
       " [1.0, 0.081306, 0.068935],\n",
       " [1.0, 0.659753, 2.85402],\n",
       " [1.0, 0.37527, 0.999743],\n",
       " [1.0, 0.819136, 4.048082],\n",
       " [1.0, 0.142432, 0.230923],\n",
       " [1.0, 0.215112, 0.816693],\n",
       " [1.0, 0.04127, 0.130713],\n",
       " [1.0, 0.044136, -0.537706],\n",
       " [1.0, 0.131337, -0.339109],\n",
       " [1.0, 0.463444, 2.124538],\n",
       " [1.0, 0.671905, 2.708292],\n",
       " [1.0, 0.946559, 4.01739],\n",
       " [1.0, 0.904176, 4.004021],\n",
       " [1.0, 0.306674, 1.022555],\n",
       " [1.0, 0.819006, 3.657442],\n",
       " [1.0, 0.845472, 4.073619],\n",
       " [1.0, 0.156258, 0.011994],\n",
       " [1.0, 0.857185, 3.640429],\n",
       " [1.0, 0.400158, 1.808497],\n",
       " [1.0, 0.375395, 1.431404],\n",
       " [1.0, 0.885807, 3.935544],\n",
       " [1.0, 0.23996, 1.162152],\n",
       " [1.0, 0.14864, -0.22733],\n",
       " [1.0, 0.143143, -0.068728],\n",
       " [1.0, 0.321582, 0.825051],\n",
       " [1.0, 0.509393, 2.008645],\n",
       " [1.0, 0.355891, 0.664566],\n",
       " [1.0, 0.938633, 4.180202],\n",
       " [1.0, 0.348057, 0.864845],\n",
       " [1.0, 0.438898, 1.851174],\n",
       " [1.0, 0.781419, 2.761993],\n",
       " [1.0, 0.911333, 4.075914],\n",
       " [1.0, 0.032469, 0.110229],\n",
       " [1.0, 0.499985, 2.181987],\n",
       " [1.0, 0.771663, 3.152528],\n",
       " [1.0, 0.670361, 3.046564],\n",
       " [1.0, 0.176202, 0.128954],\n",
       " [1.0, 0.39217, 1.062726],\n",
       " [1.0, 0.911188, 3.651742],\n",
       " [1.0, 0.872288, 4.40195],\n",
       " [1.0, 0.733107, 3.022888],\n",
       " [1.0, 0.610239, 2.874917],\n",
       " [1.0, 0.732739, 2.946801],\n",
       " [1.0, 0.714825, 2.893644],\n",
       " [1.0, 0.076386, 0.072131],\n",
       " [1.0, 0.559009, 1.748275],\n",
       " [1.0, 0.427258, 1.912047],\n",
       " [1.0, 0.841875, 3.710686],\n",
       " [1.0, 0.558918, 1.719148],\n",
       " [1.0, 0.533241, 2.17409],\n",
       " [1.0, 0.956665, 3.656357],\n",
       " [1.0, 0.620393, 3.522504],\n",
       " [1.0, 0.56612, 2.234126],\n",
       " [1.0, 0.523258, 1.859772],\n",
       " [1.0, 0.476884, 2.097017],\n",
       " [1.0, 0.176408, 0.001794],\n",
       " [1.0, 0.303094, 1.231928],\n",
       " [1.0, 0.609731, 2.953862],\n",
       " [1.0, 0.017774, -0.116803],\n",
       " [1.0, 0.622616, 2.638864],\n",
       " [1.0, 0.886539, 3.943428],\n",
       " [1.0, 0.148654, -0.328513],\n",
       " [1.0, 0.10435, -0.099866],\n",
       " [1.0, 0.116868, -0.030836],\n",
       " [1.0, 0.516514, 2.359786],\n",
       " [1.0, 0.664896, 3.212581],\n",
       " [1.0, 0.004327, 0.188975],\n",
       " [1.0, 0.425559, 1.904109],\n",
       " [1.0, 0.743671, 3.007114],\n",
       " [1.0, 0.935185, 3.845834],\n",
       " [1.0, 0.6973, 3.079411],\n",
       " [1.0, 0.444551, 1.939739],\n",
       " [1.0, 0.683753, 2.880078],\n",
       " [1.0, 0.755993, 3.063577],\n",
       " [1.0, 0.90269, 4.116296],\n",
       " [1.0, 0.094491, -0.240963],\n",
       " [1.0, 0.873831, 4.066299],\n",
       " [1.0, 0.99181, 4.011834],\n",
       " [1.0, 0.185611, 0.07771],\n",
       " [1.0, 0.694551, 3.103069],\n",
       " [1.0, 0.657275, 2.811897],\n",
       " [1.0, 0.118746, -0.10463],\n",
       " [1.0, 0.084302, 0.025216],\n",
       " [1.0, 0.945341, 4.330063],\n",
       " [1.0, 0.785827, 3.087091],\n",
       " [1.0, 0.530933, 2.269988],\n",
       " [1.0, 0.879594, 4.010701],\n",
       " [1.0, 0.65277, 3.119542],\n",
       " [1.0, 0.879338, 3.723411],\n",
       " [1.0, 0.764739, 2.792078],\n",
       " [1.0, 0.504884, 2.192787],\n",
       " [1.0, 0.554203, 2.081305],\n",
       " [1.0, 0.493209, 1.714463],\n",
       " [1.0, 0.363783, 0.885854],\n",
       " [1.0, 0.316465, 1.028187],\n",
       " [1.0, 0.580283, 1.951497],\n",
       " [1.0, 0.542898, 1.709427],\n",
       " [1.0, 0.112661, 0.144068],\n",
       " [1.0, 0.816742, 3.88024],\n",
       " [1.0, 0.234175, 0.921876],\n",
       " [1.0, 0.402804, 1.979316],\n",
       " [1.0, 0.709423, 3.085768],\n",
       " [1.0, 0.867298, 3.476122],\n",
       " [1.0, 0.993392, 3.993679],\n",
       " [1.0, 0.71158, 3.07788],\n",
       " [1.0, 0.133643, -0.105365],\n",
       " [1.0, 0.052031, -0.164703],\n",
       " [1.0, 0.366806, 1.096814],\n",
       " [1.0, 0.697521, 3.092879],\n",
       " [1.0, 0.787262, 2.987926],\n",
       " [1.0, 0.47671, 2.061264],\n",
       " [1.0, 0.721417, 2.746854],\n",
       " [1.0, 0.230376, 0.71671],\n",
       " [1.0, 0.104397, 0.103831],\n",
       " [1.0, 0.197834, 0.023776],\n",
       " [1.0, 0.129291, -0.033299],\n",
       " [1.0, 0.528528, 1.942286],\n",
       " [1.0, 0.009493, -0.006338],\n",
       " [1.0, 0.998533, 3.808753],\n",
       " [1.0, 0.363522, 0.652799],\n",
       " [1.0, 0.901386, 4.053747],\n",
       " [1.0, 0.832693, 4.56929],\n",
       " [1.0, 0.119002, -0.032773],\n",
       " [1.0, 0.487638, 2.066236],\n",
       " [1.0, 0.153667, 0.222785],\n",
       " [1.0, 0.238619, 1.089268],\n",
       " [1.0, 0.208197, 1.487788],\n",
       " [1.0, 0.750921, 2.852033],\n",
       " [1.0, 0.183403, 0.024486],\n",
       " [1.0, 0.995608, 3.73775],\n",
       " [1.0, 0.151311, 0.045017],\n",
       " [1.0, 0.126804, 0.001238],\n",
       " [1.0, 0.983153, 3.892763],\n",
       " [1.0, 0.772495, 2.819376],\n",
       " [1.0, 0.784133, 2.830665],\n",
       " [1.0, 0.056934, 0.234633],\n",
       " [1.0, 0.425584, 1.810782],\n",
       " [1.0, 0.998709, 4.237235],\n",
       " [1.0, 0.707815, 3.034768],\n",
       " [1.0, 0.413816, 1.742106],\n",
       " [1.0, 0.217152, 1.16925],\n",
       " [1.0, 0.360503, 0.831165],\n",
       " [1.0, 0.977989, 3.729376],\n",
       " [1.0, 0.507953, 1.823205],\n",
       " [1.0, 0.920771, 4.02197],\n",
       " [1.0, 0.210542, 1.262939],\n",
       " [1.0, 0.928611, 4.159518],\n",
       " [1.0, 0.580373, 2.039114],\n",
       " [1.0, 0.84139, 4.101837],\n",
       " [1.0, 0.68153, 2.778672],\n",
       " [1.0, 0.292795, 1.228284],\n",
       " [1.0, 0.456918, 1.73662],\n",
       " [1.0, 0.134128, -0.195046],\n",
       " [1.0, 0.016241, -0.063215],\n",
       " [1.0, 0.691214, 3.305268],\n",
       " [1.0, 0.582002, 2.063627],\n",
       " [1.0, 0.303102, 0.89884],\n",
       " [1.0, 0.622598, 2.701692],\n",
       " [1.0, 0.525024, 1.992909],\n",
       " [1.0, 0.996775, 3.811393],\n",
       " [1.0, 0.881025, 4.353857],\n",
       " [1.0, 0.723457, 2.635641],\n",
       " [1.0, 0.676346, 2.856311],\n",
       " [1.0, 0.254625, 1.352682],\n",
       " [1.0, 0.488632, 2.336459],\n",
       " [1.0, 0.519875, 2.111651],\n",
       " [1.0, 0.160176, 0.121726],\n",
       " [1.0, 0.609483, 3.264605],\n",
       " [1.0, 0.531881, 2.103446],\n",
       " [1.0, 0.321632, 0.896855],\n",
       " [1.0, 0.845148, 4.22085],\n",
       " [1.0, 0.012003, -0.217283],\n",
       " [1.0, 0.018883, -0.300577],\n",
       " [1.0, 0.071476, 0.006014]]"
      ]
     },
     "execution_count": 9,
     "metadata": {},
     "output_type": "execute_result"
    }
   ],
   "source": [
    "dataset"
   ]
  },
  {
   "cell_type": "code",
   "execution_count": 10,
   "metadata": {},
   "outputs": [
    {
     "data": {
      "text/plain": [
       "200"
      ]
     },
     "execution_count": 10,
     "metadata": {},
     "output_type": "execute_result"
    }
   ],
   "source": [
    "len(dataset)"
   ]
  },
  {
   "cell_type": "code",
   "execution_count": 11,
   "metadata": {},
   "outputs": [],
   "source": [
    "dataset = np.mat(dataset)"
   ]
  },
  {
   "cell_type": "code",
   "execution_count": 12,
   "metadata": {},
   "outputs": [
    {
     "data": {
      "text/plain": [
       "{'feature': 1,\n",
       " 'left': {'feature': 1,\n",
       "  'left': {'feature': 1,\n",
       "   'left': 3.9871631999999999,\n",
       "   'right': 2.9836209534883724,\n",
       "   'value': 0.797583},\n",
       "  'right': 1.980035071428571,\n",
       "  'value': 0.582002},\n",
       " 'right': {'feature': 1,\n",
       "  'left': 1.0289583666666666,\n",
       "  'right': -0.023838155555555553,\n",
       "  'value': 0.197834},\n",
       " 'value': 0.39435}"
      ]
     },
     "execution_count": 12,
     "metadata": {},
     "output_type": "execute_result"
    }
   ],
   "source": [
    "create_tree(dataset)"
   ]
  },
  {
   "cell_type": "markdown",
   "metadata": {},
   "source": [
    "## 树剪枝\n",
    "有两种剪枝方式：\n",
    "- 预剪枝：通过超参数来控制决策树过拟合，对参数选择十分敏感\n",
    "- 后剪枝：利用测试集来对树进行剪枝，不需要用户指定参数\n",
    "\n",
    "### 后剪枝\n",
    "伪代码：\n",
    "```\n",
    "基于已有的树切分测试数据：\n",
    "    如果存在任一子集是一棵树，则在该子集递归剪枝过程中\n",
    "    计算将当前两个叶节点合并后的误差\n",
    "    计算不合并的误差\n",
    "    如果合并会降低误差的话，就将叶节点合并\n",
    "```"
   ]
  },
  {
   "cell_type": "code",
   "execution_count": 13,
   "metadata": {},
   "outputs": [],
   "source": [
    "def is_tree(obj):\n",
    "    return type(obj).__name__ == 'dict'\n",
    "\n",
    "\n",
    "def get_mean(tree):\n",
    "    if is_tree(tree['right']):\n",
    "        tree['right'] = get_mean(tree['right'])\n",
    "    if is_tree(tree['left']):\n",
    "        tree['left'] = get_mean(tree['left'])\n",
    "    return (tree['left'] + tree['right']) / 2.0"
   ]
  },
  {
   "cell_type": "code",
   "execution_count": 14,
   "metadata": {},
   "outputs": [],
   "source": [
    "def prune(tree, test_data):\n",
    "    if test_data.shape[0] == 0:\n",
    "        # if we have no test data collapse the tree\n",
    "        return get_mean(tree)\n",
    "    if is_tree(tree['right']) or is_tree(tree['left']):\n",
    "        # if the branches are not trees try to prune them\n",
    "        l_set, r_set = split(test_data, tree['feature'], tree['value'])\n",
    "        if is_tree(tree['left']):\n",
    "            tree['left'] = prune(tree['left'], l_set)\n",
    "        if is_tree(tree['right']):\n",
    "            tree['right'] = prune(tree['right'], r_set)\n",
    "\n",
    "    # if they are now both leafs, see if we can merge them\n",
    "    if not is_tree(tree['left']) and not is_tree(tree['right']):\n",
    "        l_set, r_set = split(test_data, tree['feature'], tree['value'])\n",
    "        error_no_merge = (sum(np.power(l_set[:, -1] - tree['left'], 2)) +\n",
    "                          sum(np.power(r_set[:, -1] - tree['right'], 2)))\n",
    "        tree_mean = (tree['left'] + tree['right']) / 2.0\n",
    "        error_merge = sum(np.power(test_data[:, -1] - tree_mean, 2))\n",
    "        if error_merge < error_no_merge:\n",
    "            print(\"merging\")\n",
    "            return tree_mean\n",
    "        else:\n",
    "            return tree\n",
    "    else:\n",
    "        return tree"
   ]
  },
  {
   "cell_type": "code",
   "execution_count": 15,
   "metadata": {},
   "outputs": [
    {
     "name": "stdout",
     "output_type": "stream",
     "text": [
      "{'feature': 0, 'value': 0.499171, 'left': {'feature': 0, 'value': 0.729397, 'left': {'feature': 0, 'value': 0.952833, 'left': {'feature': 0, 'value': 0.965969, 'left': {'feature': 0, 'value': 0.968621, 'left': 86.399636999999998, 'right': 98.648346000000004}, 'right': {'feature': 0, 'value': 0.956951, 'left': {'feature': 0, 'value': 0.958512, 'left': {'feature': 0, 'value': 0.960398, 'left': 112.386764, 'right': 123.559747}, 'right': 135.83701300000001}, 'right': {'feature': 0, 'value': 0.953902, 'left': {'feature': 0, 'value': 0.954711, 'left': 82.016541000000004, 'right': 100.935789}, 'right': 130.92648}}}, 'right': {'feature': 0, 'value': 0.759504, 'left': {'feature': 0, 'value': 0.763328, 'left': {'feature': 0, 'value': 0.769043, 'left': {'feature': 0, 'value': 0.790312, 'left': {'feature': 0, 'value': 0.806158, 'left': {'feature': 0, 'value': 0.815215, 'left': {'feature': 0, 'value': 0.833026, 'left': {'feature': 0, 'value': 0.841547, 'left': {'feature': 0, 'value': 0.841625, 'left': {'feature': 0, 'value': 0.944221, 'left': {'feature': 0, 'value': 0.948822, 'left': {'feature': 0, 'value': 0.949198, 'left': {'feature': 0, 'value': 0.952377, 'left': 100.649591, 'right': 73.520802000000003}, 'right': 105.75250800000001}, 'right': 69.318648999999994}, 'right': {'feature': 0, 'value': 0.85497, 'left': {'feature': 0, 'value': 0.936524, 'left': {'feature': 0, 'value': 0.937766, 'left': 100.12025300000001, 'right': 119.94982400000001}, 'right': {'feature': 0, 'value': 0.934853, 'left': 65.548417999999998, 'right': {'feature': 0, 'value': 0.925782, 'left': 115.75399400000001, 'right': {'feature': 0, 'value': 0.910975, 'left': {'feature': 0, 'value': 0.912161, 'left': {'feature': 0, 'value': 0.915263, 'left': 92.074618999999998, 'right': 96.717609999999993}, 'right': 85.005351000000005}, 'right': {'feature': 0, 'value': 0.901444, 'left': {'feature': 0, 'value': 0.908629, 'left': 106.814667, 'right': 118.513475}, 'right': {'feature': 0, 'value': 0.901421, 'left': 87.300624999999997, 'right': {'feature': 0, 'value': 0.892999, 'left': {'feature': 0, 'value': 0.900699, 'left': 100.133819, 'right': {'feature': 0, 'value': 0.896683, 'left': 109.188248, 'right': 107.00162}}, 'right': {'feature': 0, 'value': 0.888426, 'left': 82.436685999999995, 'right': {'feature': 0, 'value': 0.872199, 'left': {'feature': 0, 'value': 0.883615, 'left': {'feature': 0, 'value': 0.885676, 'left': 94.896354000000002, 'right': 108.045948}, 'right': {'feature': 0, 'value': 0.872883, 'left': 95.348184000000003, 'right': 95.887711999999993}}, 'right': {'feature': 0, 'value': 0.866451, 'left': 111.552716, 'right': {'feature': 0, 'value': 0.856421, 'left': 94.402101999999999, 'right': 107.166848}}}}}}}}}}}, 'right': {'feature': 0, 'value': 0.84294, 'left': {'feature': 0, 'value': 0.847219, 'left': 89.20993, 'right': 76.240983999999997}, 'right': 95.893130999999997}}}, 'right': 60.552307999999996}, 'right': {'feature': 0, 'value': 0.838587, 'left': 115.669032, 'right': 134.089674}}, 'right': {'feature': 0, 'value': 0.823848, 'left': 76.723834999999994, 'right': {'feature': 0, 'value': 0.819722, 'left': 59.342323, 'right': 70.054507999999998}}}, 'right': {'feature': 0, 'value': 0.811602, 'left': 118.319942, 'right': {'feature': 0, 'value': 0.811363, 'left': 99.841379000000003, 'right': 112.981216}}}, 'right': {'feature': 0, 'value': 0.799873, 'left': 62.877698000000002, 'right': {'feature': 0, 'value': 0.798198, 'left': 91.368472999999994, 'right': 76.853728000000004}}}, 'right': {'feature': 0, 'value': 0.786865, 'left': {'feature': 0, 'value': 0.787755, 'left': 110.15973, 'right': 118.642009}, 'right': {'feature': 0, 'value': 0.785574, 'left': 100.59882500000001, 'right': {'feature': 0, 'value': 0.777582, 'left': 107.024467, 'right': 100.838446}}}}, 'right': 64.041940999999994}, 'right': 115.199195}, 'right': {'feature': 0, 'value': 0.740859, 'left': {'feature': 0, 'value': 0.757527, 'left': 81.106762000000003, 'right': 63.549854000000003}, 'right': {'feature': 0, 'value': 0.731636, 'left': 93.773928999999995, 'right': 73.912028000000007}}}}, 'right': {'feature': 0, 'value': 0.640515, 'left': {'feature': 0, 'value': 0.642373, 'left': {'feature': 0, 'value': 0.642707, 'left': {'feature': 0, 'value': 0.665329, 'left': {'feature': 0, 'value': 0.706961, 'left': {'feature': 0, 'value': 0.70889, 'left': {'feature': 0, 'value': 0.716211, 'left': 110.90282999999999, 'right': {'feature': 0, 'value': 0.710234, 'left': 103.345308, 'right': 108.55391899999999}}, 'right': 135.41676699999999}, 'right': {'feature': 0, 'value': 0.698472, 'left': {'feature': 0, 'value': 0.69892, 'left': {'feature': 0, 'value': 0.699873, 'left': {'feature': 0, 'value': 0.70639, 'left': 106.18042699999999, 'right': 105.062147}, 'right': 115.58660500000001}, 'right': 92.470635999999999}, 'right': {'feature': 0, 'value': 0.689099, 'left': 120.521925, 'right': {'feature': 0, 'value': 0.666452, 'left': {'feature': 0, 'value': 0.667851, 'left': {'feature': 0, 'value': 0.680486, 'left': 112.378209, 'right': 110.367074}, 'right': 92.449663999999999}, 'right': {'feature': 0, 'value': 0.665652, 'left': 120.014736, 'right': 105.547997}}}}}, 'right': {'feature': 0, 'value': 0.661073, 'left': 121.98060700000001, 'right': {'feature': 0, 'value': 0.652462, 'left': 115.687524, 'right': 112.715799}}}, 'right': 82.500765999999999}, 'right': 140.61394100000001}, 'right': {'feature': 0, 'value': 0.613004, 'left': {'feature': 0, 'value': 0.623909, 'left': {'feature': 0, 'value': 0.628061, 'left': {'feature': 0, 'value': 0.637999, 'left': 82.713621000000003, 'right': {'feature': 0, 'value': 0.632691, 'left': 91.656616999999997, 'right': 93.645292999999995}}, 'right': {'feature': 0, 'value': 0.624827, 'left': 117.62834599999999, 'right': 105.970743}}, 'right': {'feature': 0, 'value': 0.618868, 'left': 87.181863000000007, 'right': 76.917665}}, 'right': {'feature': 0, 'value': 0.606417, 'left': 168.180746, 'right': {'feature': 0, 'value': 0.513332, 'left': {'feature': 0, 'value': 0.533511, 'left': {'feature': 0, 'value': 0.548539, 'left': {'feature': 0, 'value': 0.553797, 'left': {'feature': 0, 'value': 0.560301, 'left': {'feature': 0, 'value': 0.599142, 'left': 93.521395999999996, 'right': {'feature': 0, 'value': 0.589806, 'left': 130.37852899999999, 'right': {'feature': 0, 'value': 0.582311, 'left': {'feature': 0, 'value': 0.585413, 'left': 98.674874000000003, 'right': 125.295113}, 'right': {'feature': 0, 'value': 0.571214, 'left': 82.589327999999995, 'right': {'feature': 0, 'value': 0.569327, 'left': 114.872056, 'right': 108.43539199999999}}}}}, 'right': 82.903944999999993}, 'right': {'feature': 0, 'value': 0.549814, 'left': 120.857321, 'right': 137.26757599999999}}, 'right': {'feature': 0, 'value': 0.546601, 'left': 83.114502000000002, 'right': {'feature': 0, 'value': 0.537834, 'left': {'feature': 0, 'value': 0.543843, 'left': 96.319042999999994, 'right': 98.362009999999998}, 'right': 90.995536000000001}}}, 'right': {'feature': 0, 'value': 0.51915, 'left': {'feature': 0, 'value': 0.531944, 'left': 129.76674299999999, 'right': 124.795495}, 'right': 116.17616200000001}}, 'right': {'feature': 0, 'value': 0.508548, 'left': 101.075609, 'right': {'feature': 0, 'value': 0.508542, 'left': 93.292828999999998, 'right': 96.403373000000002}}}}}}}, 'right': {'feature': 0, 'value': 0.457563, 'left': {'feature': 0, 'value': 0.465561, 'left': {'feature': 0, 'value': 0.467383, 'left': {'feature': 0, 'value': 0.483803, 'left': {'feature': 0, 'value': 0.487381, 'left': {'feature': 0, 'value': 0.487537, 'left': 11.924204, 'right': 5.1493359999999999}, 'right': 27.729263}, 'right': 5.224234}, 'right': {'feature': 0, 'value': 0.46568, 'left': -9.7129250000000003, 'right': -23.777531}}, 'right': {'feature': 0, 'value': 0.463241, 'left': 30.051931, 'right': 17.171057000000001}}, 'right': {'feature': 0, 'value': 0.455761, 'left': -34.044555000000003, 'right': {'feature': 0, 'value': 0.126833, 'left': {'feature': 0, 'value': 0.130626, 'left': {'feature': 0, 'value': 0.382037, 'left': {'feature': 0, 'value': 0.388789, 'left': {'feature': 0, 'value': 0.437652, 'left': {'feature': 0, 'value': 0.454312, 'left': {'feature': 0, 'value': 0.454375, 'left': 9.8419380000000007, 'right': 3.0439120000000002}, 'right': {'feature': 0, 'value': 0.446196, 'left': {'feature': 0, 'value': 0.451087, 'left': -20.360067000000001, 'right': -28.724685000000001}, 'right': -5.1081719999999997}}, 'right': {'feature': 0, 'value': 0.412516, 'left': {'feature': 0, 'value': 0.418943, 'left': {'feature': 0, 'value': 0.426711, 'left': {'feature': 0, 'value': 0.428582, 'left': 19.745224, 'right': 15.224266}, 'right': -21.594268}, 'right': 44.161493}, 'right': {'feature': 0, 'value': 0.403228, 'left': -26.419288999999999, 'right': {'feature': 0, 'value': 0.391609, 'left': -1.729244, 'right': 3.0011040000000002}}}}, 'right': {'feature': 0, 'value': 0.385021, 'left': 21.578006999999999, 'right': 24.816941}}, 'right': {'feature': 0, 'value': 0.335182, 'left': {'feature': 0, 'value': 0.370042, 'left': {'feature': 0, 'value': 0.378965, 'left': -29.007783, 'right': {'feature': 0, 'value': 0.373501, 'left': {'feature': 0, 'value': 0.377383, 'left': 13.583555, 'right': 5.2411960000000004}, 'right': -8.2282969999999995}}, 'right': {'feature': 0, 'value': 0.35679, 'left': -32.124495000000003, 'right': {'feature': 0, 'value': 0.350725, 'left': {'feature': 0, 'value': 0.351478, 'left': -19.526539, 'right': -0.46111600000000003}, 'right': {'feature': 0, 'value': 0.350065, 'left': -40.086564000000003, 'right': {'feature': 0, 'value': 0.342761, 'left': -1.319852, 'right': {'feature': 0, 'value': 0.342155, 'left': -31.584855000000001, 'right': {'feature': 0, 'value': 0.3417, 'left': -16.930416000000001, 'right': -23.547711}}}}}}}, 'right': {'feature': 0, 'value': 0.324274, 'left': {'feature': 0, 'value': 0.32889, 'left': {'feature': 0, 'value': 0.331364, 'left': {'feature': 0, 'value': 0.3349, 'left': 2.7682250000000002, 'right': 18.976649999999999}, 'right': -1.2908249999999999}, 'right': 39.783113}, 'right': {'feature': 0, 'value': 0.309133, 'left': {'feature': 0, 'value': 0.310956, 'left': {'feature': 0, 'value': 0.318309, 'left': -13.189242999999999, 'right': -27.605423999999999}, 'right': -49.939515999999998}, 'right': {'feature': 0, 'value': 0.131833, 'left': {'feature': 0, 'value': 0.138619, 'left': {'feature': 0, 'value': 0.156067, 'left': {'feature': 0, 'value': 0.166765, 'left': {'feature': 0, 'value': 0.193282, 'left': {'feature': 0, 'value': 0.211633, 'left': {'feature': 0, 'value': 0.228473, 'left': {'feature': 0, 'value': 0.25807, 'left': {'feature': 0, 'value': 0.284794, 'left': {'feature': 0, 'value': 0.300318, 'left': 8.8147249999999993, 'right': {'feature': 0, 'value': 0.297107, 'left': -18.051317999999998, 'right': {'feature': 0, 'value': 0.295993, 'left': -1.7983769999999999, 'right': {'feature': 0, 'value': 0.290749, 'left': -14.988279, 'right': -14.391613}}}}, 'right': {'feature': 0, 'value': 0.273863, 'left': 35.623745999999997, 'right': {'feature': 0, 'value': 0.264926, 'left': -9.4575560000000003, 'right': {'feature': 0, 'value': 0.264639, 'left': 5.2805790000000004, 'right': 2.5579230000000002}}}}, 'right': {'feature': 0, 'value': 0.228628, 'left': {'feature': 0, 'value': 0.228751, 'left': {'feature': 0, 'value': 0.232802, 'left': -20.425136999999999, 'right': 1.222318}, 'right': -30.812912000000001}, 'right': -2.266273}}, 'right': {'feature': 0, 'value': 0.222271, 'left': {'feature': 0, 'value': 0.2232, 'left': 19.425158, 'right': 15.501642}, 'right': {'feature': 0, 'value': 0.218321, 'left': -9.2558520000000009, 'right': {'feature': 0, 'value': 0.217214, 'left': 1.410768, 'right': -3.958752}}}}, 'right': {'feature': 0, 'value': 0.202161, 'left': {'feature': 0, 'value': 0.203993, 'left': {'feature': 0, 'value': 0.206207, 'left': -8.3322070000000004, 'right': -12.619035999999999}, 'right': -22.379118999999999}, 'right': {'feature': 0, 'value': 0.199903, 'left': -1.983889, 'right': -3.3724720000000001}}}, 'right': {'feature': 0, 'value': 0.176523, 'left': 18.208423, 'right': 0.94634799999999997}}, 'right': {'feature': 0, 'value': 0.156273, 'left': {'feature': 0, 'value': 0.164134, 'left': {'feature': 0, 'value': 0.166431, 'left': -14.740059, 'right': -6.5125060000000001}, 'right': -27.405211000000001}, 'right': 0.225886}}, 'right': {'feature': 0, 'value': 0.13988, 'left': 7.5573490000000003, 'right': 7.3367839999999998}}, 'right': -29.087463}, 'right': 22.478290999999999}}}}}, 'right': -39.524461000000002}, 'right': {'feature': 0, 'value': 0.124723, 'left': 22.891674999999999, 'right': {'feature': 0, 'value': 0.085111, 'left': {'feature': 0, 'value': 0.108801, 'left': {'feature': 0, 'value': 0.11515, 'left': -1.4027959999999999, 'right': 13.795828}, 'right': {'feature': 0, 'value': 0.10796, 'left': -16.106164, 'right': {'feature': 0, 'value': 0.085873, 'left': -1.2931950000000001, 'right': -10.137104000000001}}}, 'right': {'feature': 0, 'value': 0.084661, 'left': 37.820658999999999, 'right': {'feature': 0, 'value': 0.080061, 'left': -24.132225999999999, 'right': {'feature': 0, 'value': 0.068373, 'left': {'feature': 0, 'value': 0.079632, 'left': 2.229873, 'right': 29.420068000000001}, 'right': {'feature': 0, 'value': 0.061219, 'left': -15.160836, 'right': {'feature': 0, 'value': 0.044737, 'left': {'feature': 0, 'value': 0.053764, 'left': {'feature': 0, 'value': 0.055862, 'left': 6.6955669999999996, 'right': -3.131497}, 'right': -13.731698}, 'right': {'feature': 0, 'value': 0.028546, 'left': {'feature': 0, 'value': 0.039914, 'left': 3.8553929999999998, 'right': 11.220098999999999}, 'right': {'feature': 0, 'value': 0.000256, 'left': -8.3770939999999996, 'right': 9.6681059999999999}}}}}}}}}}}}}\n"
     ]
    }
   ],
   "source": [
    "dataset = load_dataset(r'D:\\PythonWork\\data-modeling\\regression\\cart-dataset3.txt')\n",
    "dataset = np.mat(dataset)\n",
    "tree = create_tree(dataset, ops=(0, 1))\n",
    "print(tree)"
   ]
  },
  {
   "cell_type": "code",
   "execution_count": 16,
   "metadata": {
    "scrolled": true
   },
   "outputs": [
    {
     "name": "stdout",
     "output_type": "stream",
     "text": [
      "merging\n",
      "merging\n",
      "merging\n",
      "merging\n",
      "merging\n",
      "merging\n",
      "merging\n",
      "merging\n",
      "merging\n",
      "merging\n",
      "merging\n",
      "merging\n",
      "merging\n",
      "merging\n",
      "merging\n",
      "merging\n",
      "merging\n",
      "merging\n",
      "merging\n",
      "merging\n",
      "merging\n",
      "merging\n",
      "merging\n",
      "merging\n",
      "merging\n",
      "merging\n",
      "merging\n",
      "merging\n",
      "merging\n",
      "merging\n",
      "merging\n",
      "merging\n",
      "merging\n",
      "merging\n",
      "merging\n",
      "merging\n",
      "merging\n",
      "merging\n",
      "merging\n",
      "merging\n",
      "merging\n",
      "merging\n",
      "merging\n",
      "merging\n"
     ]
    }
   ],
   "source": [
    "dataset = load_dataset(r'D:\\PythonWork\\data-modeling\\regression\\cart-dataset4.txt')\n",
    "dataset = np.mat(dataset)\n",
    "tree = prune(tree, dataset)"
   ]
  },
  {
   "cell_type": "code",
   "execution_count": 17,
   "metadata": {},
   "outputs": [
    {
     "name": "stdout",
     "output_type": "stream",
     "text": [
      "{'feature': 0, 'value': 0.499171, 'left': {'feature': 0, 'value': 0.729397, 'left': {'feature': 0, 'value': 0.952833, 'left': {'feature': 0, 'value': 0.965969, 'left': 92.523991499999994, 'right': {'feature': 0, 'value': 0.956951, 'left': {'feature': 0, 'value': 0.958512, 'left': {'feature': 0, 'value': 0.960398, 'left': 112.386764, 'right': 123.559747}, 'right': 135.83701300000001}, 'right': 111.2013225}}, 'right': {'feature': 0, 'value': 0.759504, 'left': {'feature': 0, 'value': 0.763328, 'left': {'feature': 0, 'value': 0.769043, 'left': {'feature': 0, 'value': 0.790312, 'left': {'feature': 0, 'value': 0.806158, 'left': {'feature': 0, 'value': 0.815215, 'left': {'feature': 0, 'value': 0.833026, 'left': {'feature': 0, 'value': 0.841547, 'left': {'feature': 0, 'value': 0.841625, 'left': {'feature': 0, 'value': 0.944221, 'left': {'feature': 0, 'value': 0.948822, 'left': 96.41885225, 'right': 69.318648999999994}, 'right': {'feature': 0, 'value': 0.85497, 'left': {'feature': 0, 'value': 0.936524, 'left': 110.03503850000001, 'right': {'feature': 0, 'value': 0.934853, 'left': 65.548417999999998, 'right': {'feature': 0, 'value': 0.925782, 'left': 115.75399400000001, 'right': {'feature': 0, 'value': 0.910975, 'left': {'feature': 0, 'value': 0.912161, 'left': 94.396114499999996, 'right': 85.005351000000005}, 'right': {'feature': 0, 'value': 0.901444, 'left': {'feature': 0, 'value': 0.908629, 'left': 106.814667, 'right': 118.513475}, 'right': {'feature': 0, 'value': 0.901421, 'left': 87.300624999999997, 'right': {'feature': 0, 'value': 0.892999, 'left': {'feature': 0, 'value': 0.900699, 'left': 100.133819, 'right': 108.09493399999999}, 'right': {'feature': 0, 'value': 0.888426, 'left': 82.436685999999995, 'right': {'feature': 0, 'value': 0.872199, 'left': 98.544549499999988, 'right': 106.16859550000001}}}}}}}}}, 'right': {'feature': 0, 'value': 0.84294, 'left': {'feature': 0, 'value': 0.847219, 'left': 89.20993, 'right': 76.240983999999997}, 'right': 95.893130999999997}}}, 'right': 60.552307999999996}, 'right': 124.87935300000001}, 'right': {'feature': 0, 'value': 0.823848, 'left': 76.723834999999994, 'right': {'feature': 0, 'value': 0.819722, 'left': 59.342323, 'right': 70.054507999999998}}}, 'right': {'feature': 0, 'value': 0.811602, 'left': 118.319942, 'right': {'feature': 0, 'value': 0.811363, 'left': 99.841379000000003, 'right': 112.981216}}}, 'right': 73.494399250000001}, 'right': {'feature': 0, 'value': 0.786865, 'left': 114.4008695, 'right': 102.26514075}}, 'right': 64.041940999999994}, 'right': 115.199195}, 'right': 78.085643250000004}}, 'right': {'feature': 0, 'value': 0.640515, 'left': {'feature': 0, 'value': 0.642373, 'left': {'feature': 0, 'value': 0.642707, 'left': {'feature': 0, 'value': 0.665329, 'left': {'feature': 0, 'value': 0.706961, 'left': {'feature': 0, 'value': 0.70889, 'left': {'feature': 0, 'value': 0.716211, 'left': 110.90282999999999, 'right': {'feature': 0, 'value': 0.710234, 'left': 103.345308, 'right': 108.55391899999999}}, 'right': 135.41676699999999}, 'right': {'feature': 0, 'value': 0.698472, 'left': {'feature': 0, 'value': 0.69892, 'left': {'feature': 0, 'value': 0.699873, 'left': {'feature': 0, 'value': 0.70639, 'left': 106.18042699999999, 'right': 105.062147}, 'right': 115.58660500000001}, 'right': 92.470635999999999}, 'right': {'feature': 0, 'value': 0.689099, 'left': 120.521925, 'right': {'feature': 0, 'value': 0.666452, 'left': 101.91115275, 'right': 112.78136649999999}}}}, 'right': {'feature': 0, 'value': 0.661073, 'left': 121.98060700000001, 'right': {'feature': 0, 'value': 0.652462, 'left': 115.687524, 'right': 112.715799}}}, 'right': 82.500765999999999}, 'right': 140.61394100000001}, 'right': {'feature': 0, 'value': 0.613004, 'left': {'feature': 0, 'value': 0.623909, 'left': {'feature': 0, 'value': 0.628061, 'left': {'feature': 0, 'value': 0.637999, 'left': 82.713621000000003, 'right': {'feature': 0, 'value': 0.632691, 'left': 91.656616999999997, 'right': 93.645292999999995}}, 'right': {'feature': 0, 'value': 0.624827, 'left': 117.62834599999999, 'right': 105.970743}}, 'right': 82.04976400000001}, 'right': {'feature': 0, 'value': 0.606417, 'left': 168.180746, 'right': {'feature': 0, 'value': 0.513332, 'left': {'feature': 0, 'value': 0.533511, 'left': {'feature': 0, 'value': 0.548539, 'left': {'feature': 0, 'value': 0.553797, 'left': {'feature': 0, 'value': 0.560301, 'left': {'feature': 0, 'value': 0.599142, 'left': 93.521395999999996, 'right': {'feature': 0, 'value': 0.589806, 'left': 130.37852899999999, 'right': {'feature': 0, 'value': 0.582311, 'left': 111.9849935, 'right': {'feature': 0, 'value': 0.571214, 'left': 82.589327999999995, 'right': {'feature': 0, 'value': 0.569327, 'left': 114.872056, 'right': 108.43539199999999}}}}}, 'right': 82.903944999999993}, 'right': 129.06244849999999}, 'right': {'feature': 0, 'value': 0.546601, 'left': 83.114502000000002, 'right': {'feature': 0, 'value': 0.537834, 'left': 97.340526499999996, 'right': 90.995536000000001}}}, 'right': {'feature': 0, 'value': 0.51915, 'left': {'feature': 0, 'value': 0.531944, 'left': 129.76674299999999, 'right': 124.795495}, 'right': 116.17616200000001}}, 'right': {'feature': 0, 'value': 0.508548, 'left': 101.075609, 'right': {'feature': 0, 'value': 0.508542, 'left': 93.292828999999998, 'right': 96.403373000000002}}}}}}}, 'right': {'feature': 0, 'value': 0.457563, 'left': {'feature': 0, 'value': 0.465561, 'left': {'feature': 0, 'value': 0.467383, 'left': {'feature': 0, 'value': 0.483803, 'left': {'feature': 0, 'value': 0.487381, 'left': 8.5367700000000006, 'right': 27.729263}, 'right': 5.224234}, 'right': {'feature': 0, 'value': 0.46568, 'left': -9.7129250000000003, 'right': -23.777531}}, 'right': {'feature': 0, 'value': 0.463241, 'left': 30.051931, 'right': 17.171057000000001}}, 'right': {'feature': 0, 'value': 0.455761, 'left': -34.044555000000003, 'right': {'feature': 0, 'value': 0.126833, 'left': {'feature': 0, 'value': 0.130626, 'left': {'feature': 0, 'value': 0.382037, 'left': {'feature': 0, 'value': 0.388789, 'left': {'feature': 0, 'value': 0.437652, 'left': -4.1911744999999998, 'right': {'feature': 0, 'value': 0.412516, 'left': {'feature': 0, 'value': 0.418943, 'left': {'feature': 0, 'value': 0.426711, 'left': {'feature': 0, 'value': 0.428582, 'left': 19.745224, 'right': 15.224266}, 'right': -21.594268}, 'right': 44.161493}, 'right': {'feature': 0, 'value': 0.403228, 'left': -26.419288999999999, 'right': 0.63593000000000011}}}, 'right': 23.197474}, 'right': {'feature': 0, 'value': 0.335182, 'left': {'feature': 0, 'value': 0.370042, 'left': {'feature': 0, 'value': 0.378965, 'left': -29.007783, 'right': {'feature': 0, 'value': 0.373501, 'left': {'feature': 0, 'value': 0.377383, 'left': 13.583555, 'right': 5.2411960000000004}, 'right': -8.2282969999999995}}, 'right': {'feature': 0, 'value': 0.35679, 'left': -32.124495000000003, 'right': {'feature': 0, 'value': 0.350725, 'left': -9.9938275000000001, 'right': -26.851234812500003}}}, 'right': {'feature': 0, 'value': 0.324274, 'left': 22.286959625000001, 'right': {'feature': 0, 'value': 0.309133, 'left': {'feature': 0, 'value': 0.310956, 'left': -20.397333499999998, 'right': -49.939515999999998}, 'right': {'feature': 0, 'value': 0.131833, 'left': {'feature': 0, 'value': 0.138619, 'left': {'feature': 0, 'value': 0.156067, 'left': {'feature': 0, 'value': 0.166765, 'left': {'feature': 0, 'value': 0.193282, 'left': {'feature': 0, 'value': 0.211633, 'left': {'feature': 0, 'value': 0.228473, 'left': {'feature': 0, 'value': 0.25807, 'left': {'feature': 0, 'value': 0.284794, 'left': {'feature': 0, 'value': 0.300318, 'left': 8.8147249999999993, 'right': {'feature': 0, 'value': 0.297107, 'left': -18.051317999999998, 'right': {'feature': 0, 'value': 0.295993, 'left': -1.7983769999999999, 'right': {'feature': 0, 'value': 0.290749, 'left': -14.988279, 'right': -14.391613}}}}, 'right': {'feature': 0, 'value': 0.273863, 'left': 35.623745999999997, 'right': {'feature': 0, 'value': 0.264926, 'left': -9.4575560000000003, 'right': {'feature': 0, 'value': 0.264639, 'left': 5.2805790000000004, 'right': 2.5579230000000002}}}}, 'right': {'feature': 0, 'value': 0.228628, 'left': {'feature': 0, 'value': 0.228751, 'left': -9.601409499999999, 'right': -30.812912000000001}, 'right': -2.266273}}, 'right': 6.0992389999999999}, 'right': {'feature': 0, 'value': 0.202161, 'left': -16.427370249999999, 'right': -2.6781804999999999}}, 'right': 9.5773855000000001}, 'right': {'feature': 0, 'value': 0.156273, 'left': {'feature': 0, 'value': 0.164134, 'left': {'feature': 0, 'value': 0.166431, 'left': -14.740059, 'right': -6.5125060000000001}, 'right': -27.405211000000001}, 'right': 0.225886}}, 'right': {'feature': 0, 'value': 0.13988, 'left': 7.5573490000000003, 'right': 7.3367839999999998}}, 'right': -29.087463}, 'right': 22.478290999999999}}}}}, 'right': -39.524461000000002}, 'right': {'feature': 0, 'value': 0.124723, 'left': 22.891674999999999, 'right': {'feature': 0, 'value': 0.085111, 'left': {'feature': 0, 'value': 0.108801, 'left': 6.1965159999999999, 'right': {'feature': 0, 'value': 0.10796, 'left': -16.106164, 'right': {'feature': 0, 'value': 0.085873, 'left': -1.2931950000000001, 'right': -10.137104000000001}}}, 'right': {'feature': 0, 'value': 0.084661, 'left': 37.820658999999999, 'right': {'feature': 0, 'value': 0.080061, 'left': -24.132225999999999, 'right': {'feature': 0, 'value': 0.068373, 'left': 15.824970500000001, 'right': {'feature': 0, 'value': 0.061219, 'left': -15.160836, 'right': {'feature': 0, 'value': 0.044737, 'left': {'feature': 0, 'value': 0.053764, 'left': {'feature': 0, 'value': 0.055862, 'left': 6.6955669999999996, 'right': -3.131497}, 'right': -13.731698}, 'right': 4.0916259999999998}}}}}}}}}}}\n"
     ]
    }
   ],
   "source": [
    "print(tree)"
   ]
  },
  {
   "cell_type": "markdown",
   "metadata": {},
   "source": [
    "## 模型树\n",
    "用书来对数据建模，除了把叶节点简单的设定为常数之外，还有一种方法是把叶节点设定为分段线性函数。"
   ]
  },
  {
   "cell_type": "code",
   "execution_count": 18,
   "metadata": {},
   "outputs": [],
   "source": [
    "def linear_solve(dataset):\n",
    "    \"\"\"helper function used in two places\"\"\"\n",
    "    n_samples, n_features = np.shape(dataset)\n",
    "    xs = np.mat(np.ones((n_samples, n_features)))\n",
    "    ys = np.mat(np.ones((n_samples, 1)))  # create a copy of data with 1 in 0th postion\n",
    "    xs[:, 1:n_features] = dataset[:, 0:n_features - 1]\n",
    "    ys = dataset[:, -1]  # and strip out Y\n",
    "    xTx = xs.T * xs\n",
    "    if np.linalg.det(xTx) == 0.0:\n",
    "        raise NameError('This matrix is singular, cannot do inverse,\\n\\\n",
    "        try increasing the second value of ops')\n",
    "    ws = xTx.I * (xs.T * ys)\n",
    "    return ws, xs, ys\n",
    "\n",
    "\n",
    "def model_leaf(dataset):\n",
    "    \"\"\"create linear model and return coeficients\"\"\"\n",
    "    ws, xs, ys = linear_solve(dataset)\n",
    "    print(ws)\n",
    "    return ws\n",
    "\n",
    "\n",
    "def model_err(dataset):\n",
    "    ws, xs, ys = linear_solve(dataset)\n",
    "    y_preds = xs * ws\n",
    "    return sum(np.power(ys - y_preds, 2))"
   ]
  },
  {
   "cell_type": "code",
   "execution_count": 19,
   "metadata": {},
   "outputs": [
    {
     "name": "stdout",
     "output_type": "stream",
     "text": [
      "[[  1.69855694e-03]\n",
      " [  1.19647739e+01]]\n",
      "[[ 3.46877936]\n",
      " [ 1.18521743]]\n"
     ]
    },
    {
     "data": {
      "text/plain": [
       "{'feature': 0, 'left': matrix([[  1.69855694e-03],\n",
       "         [  1.19647739e+01]]), 'right': matrix([[ 3.46877936],\n",
       "         [ 1.18521743]]), 'value': 0.285477}"
      ]
     },
     "execution_count": 19,
     "metadata": {},
     "output_type": "execute_result"
    }
   ],
   "source": [
    "dataset = load_dataset(r'D:\\PythonWork\\data-modeling\\regression\\cart-dataset5.txt')\n",
    "dataset = np.mat(dataset)\n",
    "create_tree(dataset, model_leaf, model_err, (1, 10))"
   ]
  },
  {
   "cell_type": "code",
   "execution_count": null,
   "metadata": {},
   "outputs": [],
   "source": []
  }
 ],
 "metadata": {
  "kernelspec": {
   "display_name": "Python 3",
   "language": "python",
   "name": "python3"
  },
  "language_info": {
   "codemirror_mode": {
    "name": "ipython",
    "version": 3
   },
   "file_extension": ".py",
   "mimetype": "text/x-python",
   "name": "python",
   "nbconvert_exporter": "python",
   "pygments_lexer": "ipython3",
   "version": "3.5.2"
  }
 },
 "nbformat": 4,
 "nbformat_minor": 2
}
