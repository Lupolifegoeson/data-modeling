{
 "cells": [
  {
   "cell_type": "markdown",
   "metadata": {},
   "source": [
    "# FP-growth算法\n",
    "## FP树\n",
    "一颗FP树看上去与计算机科学中的其他树结构类似，但是它通过链接（link）来连接相似元素，被连起来的元素项可以看成一个链表。\n",
    "\n",
    "同搜索树不同的是，一个元素项可以在一棵FP树上出现多次。FP树会存储项集的出现频率，而每个项集都会以路径的方式存储在树中。\n",
    "## 构建FP树"
   ]
  },
  {
   "cell_type": "code",
   "execution_count": 1,
   "metadata": {},
   "outputs": [],
   "source": [
    "class TreeNode:\n",
    "    def __init__(self, name, n_occur, parent):\n",
    "        self.name = name\n",
    "        self.count = n_occur\n",
    "        self.node_link = None\n",
    "        self.parent = parent\n",
    "        self.children = {}\n",
    "    \n",
    "    def increase(self, n_occur):\n",
    "        self.count += n_occur\n",
    "        \n",
    "    def dispose(self, ind=1):\n",
    "        print(' ' * ind, self.name, ' ', self.count)\n",
    "        for child in self.children.values():\n",
    "            child.dispose(ind + 1)"
   ]
  },
  {
   "cell_type": "code",
   "execution_count": 3,
   "metadata": {},
   "outputs": [
    {
     "name": "stdout",
     "output_type": "stream",
     "text": [
      "  one   13\n"
     ]
    }
   ],
   "source": [
    "root = TreeNode('one', 13, None)\n",
    "root.dispose()"
   ]
  },
  {
   "cell_type": "code",
   "execution_count": 4,
   "metadata": {},
   "outputs": [
    {
     "name": "stdout",
     "output_type": "stream",
     "text": [
      "  one   13\n",
      "   two   9\n"
     ]
    }
   ],
   "source": [
    "root.children['two'] = TreeNode('two', 9, None)\n",
    "root.dispose()"
   ]
  },
  {
   "cell_type": "code",
   "execution_count": 5,
   "metadata": {},
   "outputs": [
    {
     "name": "stdout",
     "output_type": "stream",
     "text": [
      "  one   13\n",
      "   two   9\n",
      "   three   32\n"
     ]
    }
   ],
   "source": [
    "root.children['three'] = TreeNode('three', 32, None)\n",
    "root.dispose()"
   ]
  },
  {
   "cell_type": "markdown",
   "metadata": {},
   "source": [
    "还需要一个头指针表来指向给定类型的第一个实例。利用头指针表，可以快速访问FP树中一个给定类型的所有元素。\n",
    "\n",
    "最后生成的FP树如下所示：\n",
    "\n",
    "![FP-tree](FP-tree.png)\n",
    "\n",
    "算法流程：\n",
    "1. 遍历所有的数据集合，计算所有项的支持度。\n",
    "2. 丢弃非频繁的项\n",
    "3. 基于支持度降序排序所有的项（头指针表的顺序）\n",
    "4. 所有数据集合按照得到的顺序重新整理\n",
    "5. 整理完成后，丢弃每个集合末尾的非频繁项\n",
    "6. 读取每个集合插入FP树中，同时用一个头部链表数据结构维护不同集合的相同项"
   ]
  },
  {
   "cell_type": "code",
   "execution_count": 6,
   "metadata": {},
   "outputs": [],
   "source": [
    "def load_dataset():\n",
    "    dataset = [['r', 'z', 'h', 'j', 'p'],\n",
    "               ['z', 'y', 'x', 'w', 'v', 'u', 't', 's'],\n",
    "               ['z'],\n",
    "               ['r', 'x', 'n', 'o', 's'],\n",
    "               ['y', 'r', 'x', 'z', 'q', 't', 'p'],\n",
    "               ['y', 'z', 'x', 'e', 'q', 's', 't', 'm']]\n",
    "    return dataset"
   ]
  },
  {
   "cell_type": "code",
   "execution_count": 7,
   "metadata": {},
   "outputs": [],
   "source": [
    "def create_init_set(dataset):\n",
    "    ret_dict = {}\n",
    "    for trans in dataset:\n",
    "        ret_dict[frozenset(trans)] = 1  # frozenset是不可变的集合\n",
    "    return ret_dict"
   ]
  },
  {
   "cell_type": "code",
   "execution_count": 8,
   "metadata": {},
   "outputs": [
    {
     "data": {
      "text/plain": [
       "[['r', 'z', 'h', 'j', 'p'],\n",
       " ['z', 'y', 'x', 'w', 'v', 'u', 't', 's'],\n",
       " ['z'],\n",
       " ['r', 'x', 'n', 'o', 's'],\n",
       " ['y', 'r', 'x', 'z', 'q', 't', 'p'],\n",
       " ['y', 'z', 'x', 'e', 'q', 's', 't', 'm']]"
      ]
     },
     "execution_count": 8,
     "metadata": {},
     "output_type": "execute_result"
    }
   ],
   "source": [
    "dataset = load_dataset()\n",
    "dataset"
   ]
  },
  {
   "cell_type": "code",
   "execution_count": 9,
   "metadata": {},
   "outputs": [
    {
     "data": {
      "text/plain": [
       "{frozenset({'z'}): 1,\n",
       " frozenset({'h', 'j', 'p', 'r', 'z'}): 1,\n",
       " frozenset({'s', 't', 'u', 'v', 'w', 'x', 'y', 'z'}): 1,\n",
       " frozenset({'n', 'o', 'r', 's', 'x'}): 1,\n",
       " frozenset({'p', 'q', 'r', 't', 'x', 'y', 'z'}): 1,\n",
       " frozenset({'e', 'm', 'q', 's', 't', 'x', 'y', 'z'}): 1}"
      ]
     },
     "execution_count": 9,
     "metadata": {},
     "output_type": "execute_result"
    }
   ],
   "source": [
    "init_set = create_init_set(dataset)\n",
    "init_set"
   ]
  },
  {
   "cell_type": "code",
   "execution_count": 10,
   "metadata": {},
   "outputs": [],
   "source": [
    "def updata_header(node_to_test, target_node):\n",
    "    \"\"\"每次增加新的树节点，都要在头指针表的相应链表最后追加新的链表节点\"\"\"\n",
    "    while node_to_test.node_link is not None:  # Do not use recursion to traverse a linked list!\n",
    "        node_to_test = node_to_test.node_link\n",
    "    node_to_test.node_link = target_node"
   ]
  },
  {
   "cell_type": "code",
   "execution_count": 11,
   "metadata": {},
   "outputs": [],
   "source": [
    "def updata_tree(items, tree, header_table, count):\n",
    "    \"\"\"\n",
    "    为FP树添加新的节点\n",
    "    :param items: 有序频繁项集\n",
    "    :param tree:\n",
    "    :param header_table:\n",
    "    :param count: 频繁项集整体的频数\n",
    "    :return:\n",
    "    \"\"\"\n",
    "    if items[0] in tree.children:  # check if orderedItems[0] in retTree.children\n",
    "        tree.children[items[0]].increase(count)  # incrament count\n",
    "    else:  # add items[0] to inTree.children\n",
    "        tree.children[items[0]] = TreeNode(items[0], count, tree)\n",
    "        if header_table[items[0]][1] is None:  # update header table\n",
    "            header_table[items[0]][1] = tree.children[items[0]]\n",
    "        else:\n",
    "            updata_header(header_table[items[0]][1], tree.children[items[0]])\n",
    "    if len(items) > 1:  # call updateTree() with remaining ordered items\n",
    "        updata_tree(items[1::], tree.children[items[0]], header_table, count)"
   ]
  },
  {
   "cell_type": "code",
   "execution_count": 12,
   "metadata": {},
   "outputs": [],
   "source": [
    "def create_tree(dataset, min_support=1):\n",
    "    \"\"\"\n",
    "    create FP-tree from dataset but don't mine\n",
    "    :param dataset: dict, key: 频繁项集, value: 出现次数\n",
    "    :param min_support: 最小支持度\n",
    "    :return:\n",
    "    \"\"\"\n",
    "    header_table = {}\n",
    "\n",
    "    '''first pass counts frequency of occurance'''\n",
    "    for transaction in dataset:\n",
    "        for item in transaction:\n",
    "            header_table[item] = header_table.get(item, 0) + dataset[transaction]\n",
    "\n",
    "    '''remove items not meeting minSup'''\n",
    "    new_header_table = header_table.copy()\n",
    "    for k in header_table.keys():\n",
    "        if header_table[k] < min_support:\n",
    "            del (new_header_table[k])\n",
    "\n",
    "    freq_item_set = set(new_header_table.keys())  # 获取频繁项集\n",
    "    if len(freq_item_set) == 0:\n",
    "        return None, None\n",
    "\n",
    "    '''reformat headerTable to use Node link'''\n",
    "    for k in new_header_table:\n",
    "        new_header_table[k] = [new_header_table[k], None]  # [5表示出现次数，[树节点]]\n",
    "\n",
    "    tree = TreeNode('Null Set', 1, None)\n",
    "    for tran_set, count in dataset.items():\n",
    "        local_d = {}  # 当前频繁项集的频数统计字典\n",
    "        for item in tran_set:  # put transaction items in order\n",
    "            if item in freq_item_set:\n",
    "                local_d[item] = new_header_table[item][0]\n",
    "        if len(local_d) > 0:\n",
    "            ordered_items = [v[0] for v in sorted(local_d.items(), key=lambda p: p[1], reverse=True)]\n",
    "            updata_tree(ordered_items, tree, new_header_table, count)  # populate tree with ordered freq itemset\n",
    "    return tree, new_header_table"
   ]
  },
  {
   "cell_type": "code",
   "execution_count": 20,
   "metadata": {},
   "outputs": [],
   "source": [
    "mytree, myheader_table = create_tree(init_set, min_support=3)"
   ]
  },
  {
   "cell_type": "code",
   "execution_count": 21,
   "metadata": {},
   "outputs": [
    {
     "name": "stdout",
     "output_type": "stream",
     "text": [
      "  Null Set   1\n",
      "   z   5\n",
      "    r   1\n",
      "    x   3\n",
      "     t   2\n",
      "      s   2\n",
      "       y   2\n",
      "     r   1\n",
      "      t   1\n",
      "       y   1\n",
      "   x   1\n",
      "    r   1\n",
      "     s   1\n"
     ]
    }
   ],
   "source": [
    "mytree.dispose()"
   ]
  },
  {
   "cell_type": "code",
   "execution_count": 22,
   "metadata": {},
   "outputs": [
    {
     "data": {
      "text/plain": [
       "{'r': [3, <__main__.TreeNode at 0x229e1e31a90>],\n",
       " 's': [3, <__main__.TreeNode at 0x229e1e3e860>],\n",
       " 't': [3, <__main__.TreeNode at 0x229e1e3e1d0>],\n",
       " 'x': [4, <__main__.TreeNode at 0x229e1e31b00>],\n",
       " 'y': [3, <__main__.TreeNode at 0x229e1e3e710>],\n",
       " 'z': [5, <__main__.TreeNode at 0x229e1e31780>]}"
      ]
     },
     "execution_count": 22,
     "metadata": {},
     "output_type": "execute_result"
    }
   ],
   "source": [
    "myheader_table"
   ]
  },
  {
   "cell_type": "markdown",
   "metadata": {},
   "source": [
    "## 从一棵FP树中挖掘频繁项集\n",
    "算法流程：\n",
    "1. 从FP树中获得条件模式基\n",
    "2. 利用条件模式基，构建一个条件FP树\n",
    "3. 迭代重复步骤1和2，知道树包含一个元素项为止\n",
    "\n",
    "条件模式基：首先从头指针表中的单个频繁元素项开始，对于每一个元素项，获得其对应的条件模式基。条件模式基是以所查找的元素项为结尾的路径集合。\n",
    "\n",
    "找到条件模式基的示意图如下：\n",
    "![condition_patterns](condition_patterns.png)"
   ]
  },
  {
   "cell_type": "code",
   "execution_count": 16,
   "metadata": {},
   "outputs": [],
   "source": [
    "def ascend_tree(leaf_node, prefix_path):\n",
    "    \"\"\"ascends from leaf node to root\"\"\"\n",
    "    if leaf_node.parent is not None:\n",
    "        prefix_path.append(leaf_node.name)\n",
    "        ascend_tree(leaf_node.parent, prefix_path)"
   ]
  },
  {
   "cell_type": "code",
   "execution_count": 17,
   "metadata": {},
   "outputs": [],
   "source": [
    "def find_prefix_path(tree_node):\n",
    "    \"\"\"treeNode comes from header table\"\"\"\n",
    "    condition_patterns = {}\n",
    "    while tree_node is not None:\n",
    "        prefix_path = []\n",
    "        ascend_tree(tree_node, prefix_path)\n",
    "        if len(prefix_path) > 1:\n",
    "            condition_patterns[frozenset(prefix_path[1:])] = tree_node.count\n",
    "        tree_node = tree_node.node_link\n",
    "    return condition_patterns"
   ]
  },
  {
   "cell_type": "code",
   "execution_count": 24,
   "metadata": {},
   "outputs": [
    {
     "data": {
      "text/plain": [
       "{frozenset({'s', 't', 'x', 'z'}): 2, frozenset({'r', 't', 'x', 'z'}): 1}"
      ]
     },
     "execution_count": 24,
     "metadata": {},
     "output_type": "execute_result"
    }
   ],
   "source": [
    "find_prefix_path(myheader_table['y'][1])"
   ]
  },
  {
   "cell_type": "markdown",
   "metadata": {},
   "source": [
    "### 条件数与频繁项集\n",
    "按频数从小到大的顺序，对每一个元素项都要计算条件模式基；\n",
    "\n",
    "然后以条件模式基为新数据集构造条件FP树，条件FP树如下图所示：\n",
    "![condition_tree](condition_tree.png)\n",
    "\n",
    "对条件FP树，从叶节点回溯到根节点，得到频繁项集。"
   ]
  },
  {
   "cell_type": "code",
   "execution_count": 25,
   "metadata": {},
   "outputs": [],
   "source": [
    "def mine_tree(header_table, min_support, pre_fix, freq_item_list):\n",
    "    \"\"\"\n",
    "    挖掘频繁项\n",
    "    :param header_table: 头指针表\n",
    "    :param min_support: 最小支持度\n",
    "    :param pre_fix:\n",
    "    :param freq_item_list: 频繁项集\n",
    "    :return:\n",
    "    \"\"\"\n",
    "    resorted_header_table = [v[0] for v in sorted(header_table.items(), key=lambda p: p[1][0])]\n",
    "\n",
    "    for base_pattern in resorted_header_table:  # start from bottom of header table\n",
    "        # print(base_pattern)\n",
    "        new_freq_set = pre_fix.copy()\n",
    "        new_freq_set.add(base_pattern)\n",
    "        # print('finalFrequent Item: ', new_freq_set)  # append to set\n",
    "\n",
    "        freq_item_list.append(new_freq_set)\n",
    "        condition_patterns = find_prefix_path(header_table[base_pattern][1])\n",
    "        # print('condPattBases :', base_pattern, condition_patterns)\n",
    "        # 2. construct cond FP-tree from cond. pattern base\n",
    "        my_cond_tree, my_head = create_tree(condition_patterns, min_support)\n",
    "        # print('head from conditional tree: ', my_head)\n",
    "        if my_head is not None:  # 3. mine cond. FP-tree\n",
    "#             print('conditional tree for: ', new_freq_set)\n",
    "            my_cond_tree.dispose(1)\n",
    "            mine_tree(my_head, min_support, new_freq_set, freq_item_list)"
   ]
  },
  {
   "cell_type": "code",
   "execution_count": 26,
   "metadata": {},
   "outputs": [
    {
     "name": "stdout",
     "output_type": "stream",
     "text": [
      "  Null Set   1\n",
      "   x   3\n",
      "    z   3\n",
      "  Null Set   1\n",
      "   x   3\n",
      "  Null Set   1\n",
      "   x   3\n",
      "  Null Set   1\n",
      "   x   3\n",
      "    t   3\n",
      "     z   3\n",
      "  Null Set   1\n",
      "   x   3\n",
      "  Null Set   1\n",
      "   x   3\n",
      "    t   3\n",
      "  Null Set   1\n",
      "   x   3\n",
      "  Null Set   1\n",
      "   z   3\n"
     ]
    }
   ],
   "source": [
    "myfreq_item_list = []\n",
    "mine_tree(myheader_table, 3, set([]), myfreq_item_list)"
   ]
  },
  {
   "cell_type": "code",
   "execution_count": 27,
   "metadata": {},
   "outputs": [
    {
     "data": {
      "text/plain": [
       "[{'r'},\n",
       " {'t'},\n",
       " {'t', 'x'},\n",
       " {'t', 'z'},\n",
       " {'t', 'x', 'z'},\n",
       " {'s'},\n",
       " {'s', 'x'},\n",
       " {'y'},\n",
       " {'x', 'y'},\n",
       " {'t', 'y'},\n",
       " {'t', 'x', 'y'},\n",
       " {'y', 'z'},\n",
       " {'x', 'y', 'z'},\n",
       " {'t', 'y', 'z'},\n",
       " {'t', 'x', 'y', 'z'},\n",
       " {'x'},\n",
       " {'x', 'z'},\n",
       " {'z'}]"
      ]
     },
     "execution_count": 27,
     "metadata": {},
     "output_type": "execute_result"
    }
   ],
   "source": [
    "myfreq_item_list"
   ]
  },
  {
   "cell_type": "code",
   "execution_count": null,
   "metadata": {},
   "outputs": [],
   "source": []
  }
 ],
 "metadata": {
  "kernelspec": {
   "display_name": "Python 3",
   "language": "python",
   "name": "python3"
  },
  "language_info": {
   "codemirror_mode": {
    "name": "ipython",
    "version": 3
   },
   "file_extension": ".py",
   "mimetype": "text/x-python",
   "name": "python",
   "nbconvert_exporter": "python",
   "pygments_lexer": "ipython3",
   "version": "3.6.0"
  }
 },
 "nbformat": 4,
 "nbformat_minor": 2
}
