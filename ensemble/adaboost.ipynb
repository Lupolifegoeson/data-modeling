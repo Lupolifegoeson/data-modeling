{
 "cells": [
  {
   "cell_type": "markdown",
   "metadata": {},
   "source": [
    "# AdaBoost\n",
    "AdaBoost是adaptive boosting的缩写，其运行过程如下：\n",
    "\n",
    "训练数据中的每个样本，并赋予其一个权重，这些权重构成了向量D。一开始，这些权重都初始化成相等值。首先在训练数据上训练一个弱分类器并计算该分类器的错误率，然后在同一数据集上再次训练弱分类器。在分类器的二次训练中，会重新调整每个样本的权重，其中第一次分对的样本的权重会降低，而第二次分错的样本的权重会提高。为了从所有的弱分类器中得到最终的分类结果，AdaBoost为每个分类器都分配了一个权重值$\\alpha$，这些$\\alpha$值是根据每个弱分类器的错误率进行计算的。$$\\alpha = \\frac 12 ln(\\frac {1 - \\varepsilon }{\\varepsilon })$$其中$\\varepsilon$为弱分类器的错误率。\n",
    "\n",
    "根据$\\alpha$更改样本权重的方法：\n",
    "- 如果某个样本被正确分类，那么样本的权重更改为：$D_{(t+1)} = \\frac {D_i^{(t)}\\space e^{-\\alpha}}{Sum(D)}$\n",
    "- 如果某个样本被错误分类，那么样本的权重更改为：$D_{(t+1)} = \\frac {D_i^{(t)}\\space e^{\\alpha}}{Sum(D)}$"
   ]
  },
  {
   "cell_type": "code",
   "execution_count": 1,
   "metadata": {},
   "outputs": [],
   "source": [
    "import numpy as np"
   ]
  },
  {
   "cell_type": "code",
   "execution_count": 2,
   "metadata": {},
   "outputs": [],
   "source": [
    "def load_dataset():\n",
    "    dataset = np.matrix([[1., 2.1],\n",
    "                        [2., 1.1],\n",
    "                        [1.3, 1.],\n",
    "                        [1., 1.],\n",
    "                        [2., 1.]])\n",
    "    labels = [1.0, 1.0, -1.0, -1.0, 1.0]\n",
    "    return dataset, labels"
   ]
  },
  {
   "cell_type": "code",
   "execution_count": 3,
   "metadata": {},
   "outputs": [],
   "source": [
    "dataset, labels = load_dataset()"
   ]
  },
  {
   "cell_type": "code",
   "execution_count": 4,
   "metadata": {},
   "outputs": [
    {
     "data": {
      "text/plain": [
       "matrix([[ 1. ,  2.1],\n",
       "        [ 2. ,  1.1],\n",
       "        [ 1.3,  1. ],\n",
       "        [ 1. ,  1. ],\n",
       "        [ 2. ,  1. ]])"
      ]
     },
     "execution_count": 4,
     "metadata": {},
     "output_type": "execute_result"
    }
   ],
   "source": [
    "dataset"
   ]
  },
  {
   "cell_type": "code",
   "execution_count": 5,
   "metadata": {},
   "outputs": [
    {
     "data": {
      "text/plain": [
       "[1.0, 1.0, -1.0, -1.0, 1.0]"
      ]
     },
     "execution_count": 5,
     "metadata": {},
     "output_type": "execute_result"
    }
   ],
   "source": [
    "labels"
   ]
  },
  {
   "cell_type": "markdown",
   "metadata": {},
   "source": [
    "## 单层决策树\n",
    "### 伪代码\n",
    "```\n",
    "将最小错误率设为正无穷\n",
    "对数据集中的每一个特征（第一层循环）：\n",
    "    对每个步长（第二层循环）：\n",
    "        对每个不等号（第三层循环）：\n",
    "            建立一颗单层决策树并利用加权数据对它进行测试\n",
    "            如果错误率低于最小错误率，则将当前单层决策树设为最佳单层决策树\n",
    "返回最佳单层决策树\n",
    "```"
   ]
  },
  {
   "cell_type": "code",
   "execution_count": 6,
   "metadata": {},
   "outputs": [],
   "source": [
    "def stump_classify(data_matrix, feature, threshold, inequal):\n",
    "    \"\"\"just classify the data\"\"\"\n",
    "    result = np.ones((data_matrix.shape[0], 1))\n",
    "    if inequal == 'leqslant':\n",
    "        result[data_matrix[:, feature] <= threshold] = -1.0\n",
    "    else:\n",
    "        result[data_matrix[:, feature] > threshold] = -1.0\n",
    "    return result"
   ]
  },
  {
   "cell_type": "code",
   "execution_count": 7,
   "metadata": {},
   "outputs": [],
   "source": [
    "def build_stump(dataset, labels, D):\n",
    "    \"\"\"\n",
    "    :param D: 样本权重\n",
    "    :return:\n",
    "    \"\"\"\n",
    "    data_matrix = np.mat(dataset)  # (5, 2)\n",
    "    label_matrix = np.mat(labels).T  # (5, 1)\n",
    "    n_samples, n_features = data_matrix.shape\n",
    "    num_steps = 10.0  # 步长\n",
    "    best_stump = {}  # 最佳决策树桩\n",
    "    result = np.mat(np.zeros((n_samples, 1)))  # (5, 1)\n",
    "    min_error = np.inf  # init error sum, to +infinity\n",
    "\n",
    "    for i in range(n_features):  # loop over all dimensions\n",
    "        range_min = data_matrix[:, i].min()\n",
    "        range_max = data_matrix[:, i].max()\n",
    "        step_size = (range_max - range_min) / num_steps\n",
    "\n",
    "        for j in range(-1, int(num_steps) + 1):  # loop over all range in current dimension\n",
    "            for inequal in ['leqslant', 'geqslant']:  # go over less than and greater than\n",
    "                threshold = (range_min + float(j) * step_size)\n",
    "                # call stump classify with i, j, lessThan\n",
    "                predictions = stump_classify(data_matrix, i, threshold, inequal)\n",
    "                errors = np.mat(np.ones((n_samples, 1)))  # (5, 1)\n",
    "                errors[predictions == label_matrix] = 0\n",
    "                weighted_error = D.T * errors  # calc total error multiplied by D\n",
    "                print(\"split: feature %d, threshold %.2f, ineqal: %s, the weighted error is %.3f\"\n",
    "                      % (i, threshold, inequal, weighted_error))\n",
    "\n",
    "                if weighted_error < min_error:\n",
    "                    min_error = weighted_error\n",
    "                    result = predictions.copy()\n",
    "                    best_stump['feature'] = i\n",
    "                    best_stump['threshold'] = threshold\n",
    "                    best_stump['inequal'] = inequal\n",
    "    return best_stump, min_error, result"
   ]
  },
  {
   "cell_type": "markdown",
   "metadata": {},
   "source": [
    "## 完整AdaBoost算法的实现\n",
    "```\n",
    "对每次迭代：\n",
    "    利用build_stump()函数找到最佳的单层决策树\n",
    "    将最佳单层决策树加入到单层决策树组\n",
    "    计算alpha\n",
    "    计算新的权重向量D\n",
    "    更新累计类别估计值\n",
    "    如果错误率等于0.0，则退出循环\n",
    "```"
   ]
  },
  {
   "cell_type": "code",
   "execution_count": 8,
   "metadata": {},
   "outputs": [],
   "source": [
    "def adaboost_train(dataset, labels, iters=40):\n",
    "    stumps = []\n",
    "    n_features = dataset.shape[0]\n",
    "    D = np.mat(np.ones((n_features, 1)) / n_features)  # init D to all equal\n",
    "    agg_result = np.mat(np.zeros((n_features, 1)))\n",
    "\n",
    "    for i in range(iters):\n",
    "        best_stump, error, result = build_stump(dataset, labels, D)  # build Stump\n",
    "        print(\"D:\", D.T)\n",
    "        # calc alpha, throw in max(error, eps) to account for error=0\n",
    "        alpha = float(0.5 * np.log((1.0 - error) / max(error, 1e-16)))\n",
    "        best_stump['alpha'] = alpha\n",
    "        stumps.append(best_stump)  # store Stump Params in Array\n",
    "        print(\"result: \", result.T)\n",
    "        expon = np.multiply(-1 * alpha * np.mat(labels).T, result)  # exponent for D calc, getting messy\n",
    "        D = np.multiply(D, np.exp(expon))  # Calc New D for next iteration\n",
    "        D = D / D.sum()\n",
    "        # calc training error of all classifiers, if this is 0 quit for loop early (use break)\n",
    "        agg_result += alpha * result\n",
    "        print(\"agg_result: \", agg_result.T)\n",
    "        agg_error = np.multiply(np.sign(agg_result) != np.mat(labels).T, np.ones((n_features, 1)))\n",
    "        error_rate = agg_error.sum() / n_features\n",
    "        print(\"total error: \", error_rate)\n",
    "        if error_rate == 0.0:\n",
    "            break\n",
    "    return stumps, agg_result"
   ]
  },
  {
   "cell_type": "code",
   "execution_count": 9,
   "metadata": {},
   "outputs": [
    {
     "name": "stdout",
     "output_type": "stream",
     "text": [
      "split: feature 0, threshold 0.90, ineqal: leqslant, the weighted error is 0.400\n",
      "split: feature 0, threshold 0.90, ineqal: geqslant, the weighted error is 0.600\n",
      "split: feature 0, threshold 1.00, ineqal: leqslant, the weighted error is 0.400\n",
      "split: feature 0, threshold 1.00, ineqal: geqslant, the weighted error is 0.600\n",
      "split: feature 0, threshold 1.10, ineqal: leqslant, the weighted error is 0.400\n",
      "split: feature 0, threshold 1.10, ineqal: geqslant, the weighted error is 0.600\n",
      "split: feature 0, threshold 1.20, ineqal: leqslant, the weighted error is 0.400\n",
      "split: feature 0, threshold 1.20, ineqal: geqslant, the weighted error is 0.600\n",
      "split: feature 0, threshold 1.30, ineqal: leqslant, the weighted error is 0.200\n",
      "split: feature 0, threshold 1.30, ineqal: geqslant, the weighted error is 0.800\n",
      "split: feature 0, threshold 1.40, ineqal: leqslant, the weighted error is 0.200\n",
      "split: feature 0, threshold 1.40, ineqal: geqslant, the weighted error is 0.800\n",
      "split: feature 0, threshold 1.50, ineqal: leqslant, the weighted error is 0.200\n",
      "split: feature 0, threshold 1.50, ineqal: geqslant, the weighted error is 0.800\n",
      "split: feature 0, threshold 1.60, ineqal: leqslant, the weighted error is 0.200\n",
      "split: feature 0, threshold 1.60, ineqal: geqslant, the weighted error is 0.800\n",
      "split: feature 0, threshold 1.70, ineqal: leqslant, the weighted error is 0.200\n",
      "split: feature 0, threshold 1.70, ineqal: geqslant, the weighted error is 0.800\n",
      "split: feature 0, threshold 1.80, ineqal: leqslant, the weighted error is 0.200\n",
      "split: feature 0, threshold 1.80, ineqal: geqslant, the weighted error is 0.800\n",
      "split: feature 0, threshold 1.90, ineqal: leqslant, the weighted error is 0.200\n",
      "split: feature 0, threshold 1.90, ineqal: geqslant, the weighted error is 0.800\n",
      "split: feature 0, threshold 2.00, ineqal: leqslant, the weighted error is 0.600\n",
      "split: feature 0, threshold 2.00, ineqal: geqslant, the weighted error is 0.400\n",
      "split: feature 1, threshold 0.89, ineqal: leqslant, the weighted error is 0.400\n",
      "split: feature 1, threshold 0.89, ineqal: geqslant, the weighted error is 0.600\n",
      "split: feature 1, threshold 1.00, ineqal: leqslant, the weighted error is 0.200\n",
      "split: feature 1, threshold 1.00, ineqal: geqslant, the weighted error is 0.800\n",
      "split: feature 1, threshold 1.11, ineqal: leqslant, the weighted error is 0.400\n",
      "split: feature 1, threshold 1.11, ineqal: geqslant, the weighted error is 0.600\n",
      "split: feature 1, threshold 1.22, ineqal: leqslant, the weighted error is 0.400\n",
      "split: feature 1, threshold 1.22, ineqal: geqslant, the weighted error is 0.600\n",
      "split: feature 1, threshold 1.33, ineqal: leqslant, the weighted error is 0.400\n",
      "split: feature 1, threshold 1.33, ineqal: geqslant, the weighted error is 0.600\n",
      "split: feature 1, threshold 1.44, ineqal: leqslant, the weighted error is 0.400\n",
      "split: feature 1, threshold 1.44, ineqal: geqslant, the weighted error is 0.600\n",
      "split: feature 1, threshold 1.55, ineqal: leqslant, the weighted error is 0.400\n",
      "split: feature 1, threshold 1.55, ineqal: geqslant, the weighted error is 0.600\n",
      "split: feature 1, threshold 1.66, ineqal: leqslant, the weighted error is 0.400\n",
      "split: feature 1, threshold 1.66, ineqal: geqslant, the weighted error is 0.600\n",
      "split: feature 1, threshold 1.77, ineqal: leqslant, the weighted error is 0.400\n",
      "split: feature 1, threshold 1.77, ineqal: geqslant, the weighted error is 0.600\n",
      "split: feature 1, threshold 1.88, ineqal: leqslant, the weighted error is 0.400\n",
      "split: feature 1, threshold 1.88, ineqal: geqslant, the weighted error is 0.600\n",
      "split: feature 1, threshold 1.99, ineqal: leqslant, the weighted error is 0.400\n",
      "split: feature 1, threshold 1.99, ineqal: geqslant, the weighted error is 0.600\n",
      "split: feature 1, threshold 2.10, ineqal: leqslant, the weighted error is 0.600\n",
      "split: feature 1, threshold 2.10, ineqal: geqslant, the weighted error is 0.400\n",
      "D: [[ 0.2  0.2  0.2  0.2  0.2]]\n",
      "result:  [[-1.  1. -1. -1.  1.]]\n",
      "agg_result:  [[-0.69314718  0.69314718 -0.69314718 -0.69314718  0.69314718]]\n",
      "total error:  0.2\n",
      "split: feature 0, threshold 0.90, ineqal: leqslant, the weighted error is 0.250\n",
      "split: feature 0, threshold 0.90, ineqal: geqslant, the weighted error is 0.750\n",
      "split: feature 0, threshold 1.00, ineqal: leqslant, the weighted error is 0.625\n",
      "split: feature 0, threshold 1.00, ineqal: geqslant, the weighted error is 0.375\n",
      "split: feature 0, threshold 1.10, ineqal: leqslant, the weighted error is 0.625\n",
      "split: feature 0, threshold 1.10, ineqal: geqslant, the weighted error is 0.375\n",
      "split: feature 0, threshold 1.20, ineqal: leqslant, the weighted error is 0.625\n",
      "split: feature 0, threshold 1.20, ineqal: geqslant, the weighted error is 0.375\n",
      "split: feature 0, threshold 1.30, ineqal: leqslant, the weighted error is 0.500\n",
      "split: feature 0, threshold 1.30, ineqal: geqslant, the weighted error is 0.500\n",
      "split: feature 0, threshold 1.40, ineqal: leqslant, the weighted error is 0.500\n",
      "split: feature 0, threshold 1.40, ineqal: geqslant, the weighted error is 0.500\n",
      "split: feature 0, threshold 1.50, ineqal: leqslant, the weighted error is 0.500\n",
      "split: feature 0, threshold 1.50, ineqal: geqslant, the weighted error is 0.500\n",
      "split: feature 0, threshold 1.60, ineqal: leqslant, the weighted error is 0.500\n",
      "split: feature 0, threshold 1.60, ineqal: geqslant, the weighted error is 0.500\n",
      "split: feature 0, threshold 1.70, ineqal: leqslant, the weighted error is 0.500\n",
      "split: feature 0, threshold 1.70, ineqal: geqslant, the weighted error is 0.500\n",
      "split: feature 0, threshold 1.80, ineqal: leqslant, the weighted error is 0.500\n",
      "split: feature 0, threshold 1.80, ineqal: geqslant, the weighted error is 0.500\n",
      "split: feature 0, threshold 1.90, ineqal: leqslant, the weighted error is 0.500\n",
      "split: feature 0, threshold 1.90, ineqal: geqslant, the weighted error is 0.500\n",
      "split: feature 0, threshold 2.00, ineqal: leqslant, the weighted error is 0.750\n",
      "split: feature 0, threshold 2.00, ineqal: geqslant, the weighted error is 0.250\n",
      "split: feature 1, threshold 0.89, ineqal: leqslant, the weighted error is 0.250\n",
      "split: feature 1, threshold 0.89, ineqal: geqslant, the weighted error is 0.750\n",
      "split: feature 1, threshold 1.00, ineqal: leqslant, the weighted error is 0.125\n",
      "split: feature 1, threshold 1.00, ineqal: geqslant, the weighted error is 0.875\n",
      "split: feature 1, threshold 1.11, ineqal: leqslant, the weighted error is 0.250\n",
      "split: feature 1, threshold 1.11, ineqal: geqslant, the weighted error is 0.750\n",
      "split: feature 1, threshold 1.22, ineqal: leqslant, the weighted error is 0.250\n",
      "split: feature 1, threshold 1.22, ineqal: geqslant, the weighted error is 0.750\n",
      "split: feature 1, threshold 1.33, ineqal: leqslant, the weighted error is 0.250\n",
      "split: feature 1, threshold 1.33, ineqal: geqslant, the weighted error is 0.750\n",
      "split: feature 1, threshold 1.44, ineqal: leqslant, the weighted error is 0.250\n",
      "split: feature 1, threshold 1.44, ineqal: geqslant, the weighted error is 0.750\n",
      "split: feature 1, threshold 1.55, ineqal: leqslant, the weighted error is 0.250\n",
      "split: feature 1, threshold 1.55, ineqal: geqslant, the weighted error is 0.750\n",
      "split: feature 1, threshold 1.66, ineqal: leqslant, the weighted error is 0.250\n",
      "split: feature 1, threshold 1.66, ineqal: geqslant, the weighted error is 0.750\n",
      "split: feature 1, threshold 1.77, ineqal: leqslant, the weighted error is 0.250\n",
      "split: feature 1, threshold 1.77, ineqal: geqslant, the weighted error is 0.750\n",
      "split: feature 1, threshold 1.88, ineqal: leqslant, the weighted error is 0.250\n",
      "split: feature 1, threshold 1.88, ineqal: geqslant, the weighted error is 0.750\n",
      "split: feature 1, threshold 1.99, ineqal: leqslant, the weighted error is 0.250\n",
      "split: feature 1, threshold 1.99, ineqal: geqslant, the weighted error is 0.750\n",
      "split: feature 1, threshold 2.10, ineqal: leqslant, the weighted error is 0.750\n",
      "split: feature 1, threshold 2.10, ineqal: geqslant, the weighted error is 0.250\n",
      "D: [[ 0.5    0.125  0.125  0.125  0.125]]\n",
      "result:  [[ 1.  1. -1. -1. -1.]]\n",
      "agg_result:  [[ 0.27980789  1.66610226 -1.66610226 -1.66610226 -0.27980789]]\n",
      "total error:  0.2\n",
      "split: feature 0, threshold 0.90, ineqal: leqslant, the weighted error is 0.143\n",
      "split: feature 0, threshold 0.90, ineqal: geqslant, the weighted error is 0.857\n",
      "split: feature 0, threshold 1.00, ineqal: leqslant, the weighted error is 0.357\n",
      "split: feature 0, threshold 1.00, ineqal: geqslant, the weighted error is 0.643\n",
      "split: feature 0, threshold 1.10, ineqal: leqslant, the weighted error is 0.357\n",
      "split: feature 0, threshold 1.10, ineqal: geqslant, the weighted error is 0.643\n",
      "split: feature 0, threshold 1.20, ineqal: leqslant, the weighted error is 0.357\n",
      "split: feature 0, threshold 1.20, ineqal: geqslant, the weighted error is 0.643\n",
      "split: feature 0, threshold 1.30, ineqal: leqslant, the weighted error is 0.286\n",
      "split: feature 0, threshold 1.30, ineqal: geqslant, the weighted error is 0.714\n",
      "split: feature 0, threshold 1.40, ineqal: leqslant, the weighted error is 0.286\n",
      "split: feature 0, threshold 1.40, ineqal: geqslant, the weighted error is 0.714\n",
      "split: feature 0, threshold 1.50, ineqal: leqslant, the weighted error is 0.286\n",
      "split: feature 0, threshold 1.50, ineqal: geqslant, the weighted error is 0.714\n",
      "split: feature 0, threshold 1.60, ineqal: leqslant, the weighted error is 0.286\n",
      "split: feature 0, threshold 1.60, ineqal: geqslant, the weighted error is 0.714\n",
      "split: feature 0, threshold 1.70, ineqal: leqslant, the weighted error is 0.286\n",
      "split: feature 0, threshold 1.70, ineqal: geqslant, the weighted error is 0.714\n",
      "split: feature 0, threshold 1.80, ineqal: leqslant, the weighted error is 0.286\n",
      "split: feature 0, threshold 1.80, ineqal: geqslant, the weighted error is 0.714\n",
      "split: feature 0, threshold 1.90, ineqal: leqslant, the weighted error is 0.286\n",
      "split: feature 0, threshold 1.90, ineqal: geqslant, the weighted error is 0.714\n",
      "split: feature 0, threshold 2.00, ineqal: leqslant, the weighted error is 0.857\n",
      "split: feature 0, threshold 2.00, ineqal: geqslant, the weighted error is 0.143\n",
      "split: feature 1, threshold 0.89, ineqal: leqslant, the weighted error is 0.143\n",
      "split: feature 1, threshold 0.89, ineqal: geqslant, the weighted error is 0.857\n",
      "split: feature 1, threshold 1.00, ineqal: leqslant, the weighted error is 0.500\n",
      "split: feature 1, threshold 1.00, ineqal: geqslant, the weighted error is 0.500\n",
      "split: feature 1, threshold 1.11, ineqal: leqslant, the weighted error is 0.571\n",
      "split: feature 1, threshold 1.11, ineqal: geqslant, the weighted error is 0.429\n",
      "split: feature 1, threshold 1.22, ineqal: leqslant, the weighted error is 0.571\n",
      "split: feature 1, threshold 1.22, ineqal: geqslant, the weighted error is 0.429\n",
      "split: feature 1, threshold 1.33, ineqal: leqslant, the weighted error is 0.571\n",
      "split: feature 1, threshold 1.33, ineqal: geqslant, the weighted error is 0.429\n",
      "split: feature 1, threshold 1.44, ineqal: leqslant, the weighted error is 0.571\n",
      "split: feature 1, threshold 1.44, ineqal: geqslant, the weighted error is 0.429\n",
      "split: feature 1, threshold 1.55, ineqal: leqslant, the weighted error is 0.571\n",
      "split: feature 1, threshold 1.55, ineqal: geqslant, the weighted error is 0.429\n",
      "split: feature 1, threshold 1.66, ineqal: leqslant, the weighted error is 0.571\n",
      "split: feature 1, threshold 1.66, ineqal: geqslant, the weighted error is 0.429\n",
      "split: feature 1, threshold 1.77, ineqal: leqslant, the weighted error is 0.571\n",
      "split: feature 1, threshold 1.77, ineqal: geqslant, the weighted error is 0.429\n",
      "split: feature 1, threshold 1.88, ineqal: leqslant, the weighted error is 0.571\n",
      "split: feature 1, threshold 1.88, ineqal: geqslant, the weighted error is 0.429\n",
      "split: feature 1, threshold 1.99, ineqal: leqslant, the weighted error is 0.571\n",
      "split: feature 1, threshold 1.99, ineqal: geqslant, the weighted error is 0.429\n",
      "split: feature 1, threshold 2.10, ineqal: leqslant, the weighted error is 0.857\n",
      "split: feature 1, threshold 2.10, ineqal: geqslant, the weighted error is 0.143\n",
      "D: [[ 0.28571429  0.07142857  0.07142857  0.07142857  0.5       ]]\n",
      "result:  [[ 1.  1.  1.  1.  1.]]\n",
      "agg_result:  [[ 1.17568763  2.56198199 -0.77022252 -0.77022252  0.61607184]]\n",
      "total error:  0.0\n"
     ]
    }
   ],
   "source": [
    "stumps, agg_result = adaboost_train(dataset, labels)"
   ]
  },
  {
   "cell_type": "code",
   "execution_count": 10,
   "metadata": {},
   "outputs": [
    {
     "data": {
      "text/plain": [
       "[{'alpha': 0.6931471805599453,\n",
       "  'feature': 0,\n",
       "  'inequal': 'leqslant',\n",
       "  'threshold': 1.3},\n",
       " {'alpha': 0.9729550745276565,\n",
       "  'feature': 1,\n",
       "  'inequal': 'leqslant',\n",
       "  'threshold': 1.0},\n",
       " {'alpha': 0.8958797346140273,\n",
       "  'feature': 0,\n",
       "  'inequal': 'leqslant',\n",
       "  'threshold': 0.90000000000000002}]"
      ]
     },
     "execution_count": 10,
     "metadata": {},
     "output_type": "execute_result"
    }
   ],
   "source": [
    "stumps"
   ]
  },
  {
   "cell_type": "code",
   "execution_count": 11,
   "metadata": {},
   "outputs": [
    {
     "data": {
      "text/plain": [
       "matrix([[ 1.17568763],\n",
       "        [ 2.56198199],\n",
       "        [-0.77022252],\n",
       "        [-0.77022252],\n",
       "        [ 0.61607184]])"
      ]
     },
     "execution_count": 11,
     "metadata": {},
     "output_type": "execute_result"
    }
   ],
   "source": [
    "agg_result"
   ]
  },
  {
   "cell_type": "code",
   "execution_count": 12,
   "metadata": {},
   "outputs": [],
   "source": [
    "def ada_test(test_data, stumps):\n",
    "    data_matrix = np.mat(test_data)\n",
    "    n_features = data_matrix.shape[0]\n",
    "    agg_result = np.mat(np.zeros((n_features, 1)))\n",
    "    for i in range(len(stumps)):\n",
    "        result = stump_classify(data_matrix, \n",
    "                                stumps[i]['feature'], \n",
    "                                stumps[i]['threshold'], \n",
    "                                stumps[i]['inequal'])\n",
    "        agg_result += stumps[i]['alpha'] * result\n",
    "        print(agg_result)\n",
    "    return np.sign(agg_result)"
   ]
  },
  {
   "cell_type": "code",
   "execution_count": 13,
   "metadata": {},
   "outputs": [
    {
     "name": "stdout",
     "output_type": "stream",
     "text": [
      "[[-0.69314718]]\n",
      "[[-1.66610226]]\n",
      "[[-2.56198199]]\n"
     ]
    },
    {
     "data": {
      "text/plain": [
       "matrix([[-1.]])"
      ]
     },
     "execution_count": 13,
     "metadata": {},
     "output_type": "execute_result"
    }
   ],
   "source": [
    "ada_test([0., 0.], stumps)"
   ]
  },
  {
   "cell_type": "code",
   "execution_count": null,
   "metadata": {},
   "outputs": [],
   "source": []
  }
 ],
 "metadata": {
  "kernelspec": {
   "display_name": "Python 3",
   "language": "python",
   "name": "python3"
  },
  "language_info": {
   "codemirror_mode": {
    "name": "ipython",
    "version": 3
   },
   "file_extension": ".py",
   "mimetype": "text/x-python",
   "name": "python",
   "nbconvert_exporter": "python",
   "pygments_lexer": "ipython3",
   "version": "3.6.0"
  }
 },
 "nbformat": 4,
 "nbformat_minor": 2
}
